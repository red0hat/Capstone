{
 "cells": [
  {
   "cell_type": "code",
   "execution_count": 6,
   "metadata": {
    "collapsed": false
   },
   "outputs": [],
   "source": [
    "import psycopg2\n",
    "import sqlalchemy\n",
    "%load_ext sql\n"
   ]
  },
  {
   "cell_type": "markdown",
   "metadata": {},
   "source": [
    "## In bash.\n",
    "    docker create -v /usr/local/var/postgres --name postgres_local /bin/true\n",
    "    docker run -p 9999:5432 -e POSTGRES_PASSWORD=aPassword -d --volumes-from postgres_local postgres "
   ]
  },
  {
   "cell_type": "code",
   "execution_count": null,
   "metadata": {
    "collapsed": true
   },
   "outputs": [],
   "source": [
    "create_table_sql = \"\"\"CREATE TABLE public.tweets\n",
    "(\n",
    "    category_id integer NOT NULL,\n",
    "    tweet text COLLATE pg_catalog.\"default\" NOT NULL\n",
    "); \"\"\"\n",
    "    \n",
    "connection = psycopg2.connect(user='postgres',password= 'aPassword',host= 'localhost',dbname= 'temp',port = '9999')\n",
    "cursor = connection.cursor()\n",
    "cursor.execute(create_table_sql)\n",
    "connection.commit()\n",
    "cursor.close()\n",
    "connection.close()                   "
   ]
  },
  {
   "cell_type": "code",
   "execution_count": 12,
   "metadata": {
    "collapsed": false
   },
   "outputs": [],
   "source": [
    "strings =['v 1.2 Open a psycopg2 connection and create a cursor based on a yaml credential file.',\n",
    "        'The current expected name of the yaml file is \"Database_credentials\"; please customize this to your taste.',\n",
    "        'The credentials file will look for a entry in the dictionary called \"remote\" by default.  If the remote',\n",
    "        'databse is unavailalbe, it will attempt to connect with the settings the \"local\" key.',\n",
    "        'Please remember to close the cursor and connection when you are done using them.']"
   ]
  },
  {
   "cell_type": "code",
   "execution_count": 20,
   "metadata": {
    "collapsed": false
   },
   "outputs": [],
   "source": [
    "sql  = \"INSERT INTO page (page_id, title, page) VALUES ({}, '{}', '{}' )\"\n",
    "\n",
    "connection = psycopg2.connect(user='postgres',password= 'aPassword',host= 'localhost',dbname= 'temp',port = '9999')\n",
    "cursor = connection.cursor()\n",
    "for i, t in enumerate(strings):\n",
    "    cursor.execute(sql.format(i,t,t))\n",
    "    \n",
    "connection.commit()\n",
    "cursor.close()\n",
    "connection.close()                   "
   ]
  },
  {
   "cell_type": "markdown",
   "metadata": {},
   "source": [
    "## Make the database.\n",
    "\n",
    "    CREATE TABLE page\n",
    "    (\n",
    "        page_id integer NOT NULL,\n",
    "        title character varying(127) COLLATE pg_catalog.\"default\",\n",
    "        created_at timestamp without time zone DEFAULT now(),\n",
    "        page text COLLATE pg_catalog.\"default\",\n",
    "        CONSTRAINT page_pkey PRIMARY KEY (page_id)\n",
    "    );\n",
    "    CREATE TABLE category\n",
    "    (\n",
    "        category_id integer NOT NULL,\n",
    "        category_name character varying COLLATE pg_catalog.\"default\" NOT NULL,\n",
    "        CONSTRAINT category_pkey PRIMARY KEY (category_id)\n",
    "    );\n",
    "    CREATE TABLE page_cate\n",
    "    (\n",
    "        page_id integer NOT NULL,\n",
    "        category_id integer NOT NULL,\n",
    "        CONSTRAINT pk_page_cate PRIMARY KEY (page_id, category_id),\n",
    "        CONSTRAINT page_cate_category_id_fkey FOREIGN KEY (category_id)\n",
    "            REFERENCES public.category (category_id) MATCH SIMPLE\n",
    "            ON UPDATE NO ACTION\n",
    "            ON DELETE NO ACTION,\n",
    "        CONSTRAINT page_cate_page_id_fkey FOREIGN KEY (page_id)\n",
    "            REFERENCES public.page (page_id) MATCH SIMPLE\n",
    "            ON UPDATE NO ACTION\n",
    "            ON DELETE NO ACTION\n",
    "    );\n",
    "    CREATE TABLE public.page_vec\n",
    "    (\n",
    "    page_id integer NOT NULL,\n",
    "    page_vector double precision[] NOT NULL,\n",
    "    CONSTRAINT pk_page_vec PRIMARY KEY (page_id),\n",
    "    CONSTRAINT fk_page_vec FOREIGN KEY (page_id)\n",
    "        REFERENCES public.page (page_id) MATCH SIMPLE\n",
    "        ON UPDATE NO ACTION\n",
    "        ON DELETE NO ACTION\n",
    "    )\n"
   ]
  },
  {
   "cell_type": "code",
   "execution_count": null,
   "metadata": {
    "collapsed": true
   },
   "outputs": [],
   "source": []
  }
 ],
 "metadata": {
  "kernelspec": {
   "display_name": "Python [conda root]",
   "language": "python",
   "name": "conda-root-py"
  },
  "language_info": {
   "codemirror_mode": {
    "name": "ipython",
    "version": 2
   },
   "file_extension": ".py",
   "mimetype": "text/x-python",
   "name": "python",
   "nbconvert_exporter": "python",
   "pygments_lexer": "ipython2",
   "version": "2.7.13"
  }
 },
 "nbformat": 4,
 "nbformat_minor": 2
}
