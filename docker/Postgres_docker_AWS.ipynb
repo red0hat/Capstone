{
 "cells": [
  {
   "cell_type": "markdown",
   "metadata": {},
   "source": [
    "## Docker container creation\n",
    "\n",
    "First, make a Data Volume Container.  Instructions from https://docs.docker.com/engine/tutorials/dockervolumes/#creating-and-mounting-a-data-volume-container.\n",
    "\n",
    "    sudo docker volume create --name postgres_store\n",
    "    \n",
    "    sudo docker run -d -v postgres_store:/var/lib/postgres/data postgres_store /bin/true\n",
    "\n",
    "    \n",
    "    sudo docker run -d --volumes-from postgres_store --name postgres library/postgres\n",
    "    \n",
    "    sudo docker run -it -p 5432:5432 -v /mnt/postgres/data:/var/lib/psotgersql/data/   -d -p 5432:5432 postgres\n",
    "        -this mounts a volume. as a prelimiary option to using docker compose and a data volume container.\n",
    "        \n",
    "    \n",
    "    "
   ]
  },
  {
   "cell_type": "markdown",
   "metadata": {},
   "source": [
    "## Take 2 - developed on local machine\n",
    "\n",
    "    docker create -v /usr/local/var/postgres --name postgres_local /bin/true  <--pointed at an existing postgres directory\n",
    "    docker run -p 9999:5432 -e POSTGRES_PASSWORD=aPassword -d --volumes-from postgres_local postgres <--build an container.\n",
    "  \n",
    "  \n",
    "How can this point at a separate folder? \n",
    "Trying this on aws\n",
    "\n",
    "    sudo docker create -v /mnt/postgres/postgres_files/ --name postgres_aws library/postgres /bin/true\n",
    "    sudo docker run -p 5432:5432 -e POSTGRES_PASSWORD=aPassword -d --volumes-from postgres_aws postgres\n",
    "    \n",
    "    "
   ]
  },
  {
   "cell_type": "markdown",
   "metadata": {},
   "source": [
    "## Starting aws postgres machine, after setup\n",
    "1. spin up server, ami = ami-87ecb2e7, snapshot = vol-01f23955bf51fa954\n",
    "1. attach volume, vol-01f23955bf51fa954, postgres_store\n",
    "1. ssh in, sudo mount /dev/xvdf /mnt/postgres\n",
    "1. sudo docker run -p 5432:5432 -e POSTGRES_PASSWORD=aPassword -d --volumes-from postgres_aws postgres"
   ]
  },
  {
   "cell_type": "markdown",
   "metadata": {},
   "source": [
    "Source for containerizing the data container: https://ryaneschinger.com/blog/dockerized-postgresql-development-environment/"
   ]
  },
  {
   "cell_type": "code",
   "execution_count": null,
   "metadata": {
    "collapsed": true
   },
   "outputs": [],
   "source": []
  }
 ],
 "metadata": {
  "kernelspec": {
   "display_name": "Python [conda root]",
   "language": "python",
   "name": "conda-root-py"
  },
  "language_info": {
   "codemirror_mode": {
    "name": "ipython",
    "version": 2
   },
   "file_extension": ".py",
   "mimetype": "text/x-python",
   "name": "python",
   "nbconvert_exporter": "python",
   "pygments_lexer": "ipython2",
   "version": "2.7.13"
  }
 },
 "nbformat": 4,
 "nbformat_minor": 2
}
