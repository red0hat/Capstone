{
 "cells": [
  {
   "cell_type": "markdown",
   "metadata": {},
   "source": [
    "\n",
    "# Problems 4 & 5: Data Acquisition\n",
    "   This is running well as a module and from notebooks.  The module is at `lib/download_mine.py`.  In addition to the version from the solution for project 6, I've added progress bars via `tqdm`.  The download process is serial for each page.  The time to download the pages for all categories is around 30 minutes.  \n",
    "\n",
    "Moving the download process to a parallelized solution would be preferred.  `Redis Queue` is simple solution for queueing jobs to be executed by many workers.  The underlying service for `Redis Queue` is `redis`.  There are known security issues with `redis`. Ideally, the ports for `redis` should not be exposed beyond the local network.  Docker is a viable solution for the security issue by limiting what is exposed.  Docker links maybe the best way to integrate this service while minimizing security risks.\n",
    "\n",
    "\n"
   ]
  },
  {
   "cell_type": "code",
   "execution_count": null,
   "metadata": {
    "collapsed": true
   },
   "outputs": [],
   "source": []
  }
 ],
 "metadata": {
  "kernelspec": {
   "display_name": "Python [conda root]",
   "language": "python",
   "name": "conda-root-py"
  },
  "language_info": {
   "codemirror_mode": {
    "name": "ipython",
    "version": 2
   },
   "file_extension": ".py",
   "mimetype": "text/x-python",
   "name": "python",
   "nbconvert_exporter": "python",
   "pygments_lexer": "ipython2",
   "version": "2.7.13"
  }
 },
 "nbformat": 4,
 "nbformat_minor": 2
}
