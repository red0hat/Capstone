{
 "cells": [
  {
   "cell_type": "markdown",
   "metadata": {},
   "source": [
    "# Problem 2 & 3: Data Structure\n",
    "The database specified in the original project was a Postgres database.  To move the project to production, the overall architecture choosen is using Docker containers.\n",
    "\n",
    "The current version of docker works well with creating one conatiner for data only, and another container for the database process.  The containers are linked through a `--volumes-from` flag.\n",
    "\n",
    "The best current version for this project is the following process:"
   ]
  },
  {
   "cell_type": "markdown",
   "metadata": {},
   "source": [
    "1. Create an AWS ubuntu instance with docker and a EBS volume mounted at `/mnt/postgres/postgres_files/`.\n",
    "2. On the AWS instance, run: <p>\n",
    "`sudo docker create -v /mnt/postgres/postgres_files/ --name postgres_aws library/postgres /bin/true`</p>\n",
    "1. In the same instance, run: <p>\n",
    "`sudo docker run -p 5432:5432 -e POSTGRES_PASSWORD=aPassword -d --volumes-from postgres_aws postgres`</p>\n",
    "    Replace the password as you see fit.\n",
    "1. Postgres should be accessible on this instances IP address, port 5432.   \n"
   ]
  },
  {
   "cell_type": "markdown",
   "metadata": {},
   "source": [
    "To Do: Make location dynamic.  Either an internal docker solution or use dynDNS.  Other services should not require a hard coded IP address."
   ]
  }
 ],
 "metadata": {
  "kernelspec": {
   "display_name": "Python [conda root]",
   "language": "python",
   "name": "conda-root-py"
  },
  "language_info": {
   "codemirror_mode": {
    "name": "ipython",
    "version": 2
   },
   "file_extension": ".py",
   "mimetype": "text/x-python",
   "name": "python",
   "nbconvert_exporter": "python",
   "pygments_lexer": "ipython2",
   "version": "2.7.13"
  }
 },
 "nbformat": 4,
 "nbformat_minor": 2
}
