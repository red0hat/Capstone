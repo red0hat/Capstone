{
 "cells": [
  {
   "cell_type": "code",
   "execution_count": 1,
   "metadata": {
    "collapsed": true
   },
   "outputs": [],
   "source": [
    "\n",
    "import psycopg2\n",
    "import yaml\n",
    "import re"
   ]
  },
  {
   "cell_type": "code",
   "execution_count": 16,
   "metadata": {
    "collapsed": false
   },
   "outputs": [
    {
     "name": "stdout",
     "output_type": "stream",
     "text": [
      "Connected to server localhost.\n"
     ]
    }
   ],
   "source": [
    "sql = \"\"\"\n",
    "        Select page_id, page\n",
    "        From page\n",
    "        \"\"\"\n",
    "connection, cursor = connect_to_postgres('local')\n",
    "cursor.execute(sql)\n",
    "\n",
    "if \"select\" in cursor.statusmessage:\n",
    "    return_value = cursor.fetchall()\n",
    "else:\n",
    "    return_value = cursor.statusmessage\n",
    "\n",
    "connection.commit()\n",
    "cursor.close()\n",
    "connection.close()\n"
   ]
  },
  {
   "cell_type": "code",
   "execution_count": 21,
   "metadata": {
    "collapsed": false
   },
   "outputs": [
    {
     "name": "stdout",
     "output_type": "stream",
     "text": [
      "SELECT 4731\n"
     ]
    }
   ],
   "source": [
    "\n",
    "if \"select\" not in status:\n",
    "    print status"
   ]
  },
  {
   "cell_type": "code",
   "execution_count": 7,
   "metadata": {
    "collapsed": true
   },
   "outputs": [],
   "source": [
    "def connect_to_postgres (location = 'remote'):\n",
    "    \"\"\" Open a psycopg2 connection and create a cursor based on a yaml credential file.\n",
    "        The current expected name of the yaml file is \"Database_credentials\"; please customize this to your taste.\n",
    "        The credentials file will look for a entry in the dictionary called 'remote' by default.  If the remote\n",
    "        databse is unavailalbe, it will attempt to connect with the settings the 'local' key.  \n",
    "        Please remember to close the cursor and connection when you are done using them.        \n",
    "    \"\"\"\n",
    "#TO DO: make  'location' to a list and iterate through the list, rather than default to local db.\n",
    "#TO DO: add credential file support as a param for the function call.\n",
    "\n",
    "\n",
    "    with open('../data/credentials.yaml', 'r') as f:\n",
    "        credentials =  yaml.load(f) \n",
    "    \n",
    "    try:\n",
    "        connection = psycopg2.connect(**credentials[location])\n",
    "        print \"Connected to server {}.\".format(credentials[location]['host'])\n",
    "        return connection, connection.cursor()\n",
    "    except:\n",
    "        print 'FAILED to connect to server {}.  Trying local server.'.format(credentials[location]['host'])\n",
    "        try:\n",
    "            connection = psycopg2.connect(**credentials['local'])\n",
    "            print \"Conencted to localhost.\"\n",
    "            return connection, connection.cursor()\n",
    "        except:\n",
    "            print \"No Database is available\"\n",
    "            pass "
   ]
  },
  {
   "cell_type": "code",
   "execution_count": 9,
   "metadata": {
    "collapsed": false
   },
   "outputs": [
    {
     "name": "stdout",
     "output_type": "stream",
     "text": [
      "Connected to server localhost.\n"
     ]
    }
   ],
   "source": [
    "connection, cursor = connect_to_postgres('local')\n",
    "\n",
    "\n",
    "connection.rollback()\n",
    "# \t\tcursor.close()\n",
    "# \t\tconnection.close()\n"
   ]
  },
  {
   "cell_type": "code",
   "execution_count": 6,
   "metadata": {
    "collapsed": false
   },
   "outputs": [
    {
     "data": {
      "text/plain": [
       "u'/Users/chris/dsi/dsi_workspace/Capstone/notebooks'"
      ]
     },
     "execution_count": 6,
     "metadata": {},
     "output_type": "execute_result"
    }
   ],
   "source": [
    "pwd\n"
   ]
  },
  {
   "cell_type": "code",
   "execution_count": null,
   "metadata": {
    "collapsed": true
   },
   "outputs": [],
   "source": []
  }
 ],
 "metadata": {
  "kernelspec": {
   "display_name": "Python [conda root]",
   "language": "python",
   "name": "conda-root-py"
  },
  "language_info": {
   "codemirror_mode": {
    "name": "ipython",
    "version": 2
   },
   "file_extension": ".py",
   "mimetype": "text/x-python",
   "name": "python",
   "nbconvert_exporter": "python",
   "pygments_lexer": "ipython2",
   "version": "2.7.13"
  }
 },
 "nbformat": 4,
 "nbformat_minor": 2
}
