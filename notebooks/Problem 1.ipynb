{
 "cells": [
  {
   "cell_type": "markdown",
   "metadata": {},
   "source": [
    "# Problem 1: API call limits.\n",
    "The wikipedia api limits the results to 500 responses per call. Some of the sample categories have more than 500 pages.  The downloading function was made recurrsive so it could download all the categories.\n",
    "\n",
    "The function to download categories from the project 6 solution is below. see  the file 'notebooks/lib/wiki_module.py'"
   ]
  },
  {
   "cell_type": "code",
   "execution_count": null,
   "metadata": {
    "collapsed": true
   },
   "outputs": [],
   "source": [
    "def query_category(category):\n",
    "    \"\"\"\n",
    "    \n",
    "    Takes category name and returns a dictionary with category id and a list of pages (page id and title) associated with that category.\n",
    "    \n",
    "    \"\"\"\n",
    "    base_url = \"https://en.wikipedia.org/w/api.php\"\n",
    "    \n",
    "    param_one = cat_param_id(category)\n",
    "    query_one = param_query(param_one)\n",
    "    response_one = requests.get(base_url+query_one)\n",
    "    categoryid = unidecode(response_one.json()['query']['pages'].keys()[0])\n",
    "    \n",
    "    param_two = cat_param_pages(category)\n",
    "    query_two = param_query(param_two)\n",
    "    response_two = requests.get(base_url+query_two)\n",
    "    pages = response_two.json()['query']['categorymembers']\n",
    "    \n",
    "    return {'categoryid':categoryid,'pages':[{'pageid':page['pageid'],'title':(unidecode(\n",
    "                        page['title']))} for page in pages]}"
   ]
  },
  {
   "cell_type": "markdown",
   "metadata": {},
   "source": [
    "### Updated code with recurrsion.\n",
    "The module for calling wikipedia was significantly altered. see the file 'notebooks/lib/download_mine.py'. Lines 8-9 check if recurrsion is needed. Lines 17-19 make the recurrsive call."
   ]
  },
  {
   "cell_type": "code",
   "execution_count": null,
   "metadata": {
    "collapsed": true
   },
   "outputs": [],
   "source": [
    "def wikipedia_get_pages_for_category(category, **kwargs):\n",
    "    response_list = []\n",
    "    params = { 'action' : 'query',\n",
    "               'format' : 'json',\n",
    "               'list' : 'categorymembers',\n",
    "               'cmlimit' : 'max'\n",
    "             }\n",
    "    if kwargs.get('continue_string',False):\n",
    "        params['cmcontinue'] = kwargs['continue_string']\n",
    "        \n",
    "    params['cmtitle'] = 'Category:'+wikipedia_page_format(category)\n",
    "       \n",
    "    query_param_string = create_query_param_string(params)\n",
    "    response = get(base_url+query_param_string)\n",
    "    response_list = response.json()['query']['categorymembers']    \n",
    "    \n",
    "    if 'continue' in response.json().keys():\n",
    "        response_list.extend(wikipedia_get_pages_for_category\n",
    "                             (category, continue_string = response.json()['continue']['cmcontinue'] ))\n",
    "    return response_list"
   ]
  }
 ],
 "metadata": {
  "kernelspec": {
   "display_name": "Python [conda root]",
   "language": "python",
   "name": "conda-root-py"
  },
  "language_info": {
   "codemirror_mode": {
    "name": "ipython",
    "version": 2
   },
   "file_extension": ".py",
   "mimetype": "text/x-python",
   "name": "python",
   "nbconvert_exporter": "python",
   "pygments_lexer": "ipython2",
   "version": "2.7.13"
  }
 },
 "nbformat": 4,
 "nbformat_minor": 2
}
