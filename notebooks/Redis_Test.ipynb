{
 "cells": [
  {
   "cell_type": "code",
   "execution_count": 28,
   "metadata": {
    "collapsed": true
   },
   "outputs": [],
   "source": [
    "import os\n",
    "os.chdir('..')"
   ]
  },
  {
   "cell_type": "code",
   "execution_count": 2,
   "metadata": {
    "collapsed": false
   },
   "outputs": [
    {
     "name": "stdout",
     "output_type": "stream",
     "text": [
      "/Users/chris/dsi/dsi_workspace/Capstone\r\n"
     ]
    }
   ],
   "source": [
    "!pwd"
   ]
  },
  {
   "cell_type": "code",
   "execution_count": 23,
   "metadata": {
    "collapsed": false
   },
   "outputs": [],
   "source": [
    "import lib.download_mine as down\n",
    "import lib.database_module as db\n",
    "import tqdm\n",
    "from rq import Queue\n",
    "from redis import Redis\n",
    "import lib.wiki_module as wiki\n",
    "import lib.database_module as db\n",
    "import lib.encoding_module as enc\n",
    "from sklearn.externals import joblib\n",
    "import unidecode\n",
    "import rq_worker_download"
   ]
  },
  {
   "cell_type": "code",
   "execution_count": 9,
   "metadata": {
    "collapsed": false
   },
   "outputs": [],
   "source": [
    "q = Queue(connection=Redis(port=32379))\n",
    "                "
   ]
  },
  {
   "cell_type": "code",
   "execution_count": 10,
   "metadata": {
    "collapsed": true
   },
   "outputs": [],
   "source": [
    "category_name = 'Mangroves'\n",
    "category_dict = wiki.query_category(category_name)"
   ]
  },
  {
   "cell_type": "code",
   "execution_count": 11,
   "metadata": {
    "collapsed": false
   },
   "outputs": [
    {
     "name": "stdout",
     "output_type": "stream",
     "text": [
      "Mangrove\n",
      "Mangrove swamp\n",
      "Ecological values of mangroves\n",
      "Mangrove tree distribution\n",
      "Acanthus ebracteatus\n",
      "Aegialitis\n",
      "Aegiceras corniculatum\n",
      "Alula Lagoon\n",
      "Avicennia germinans\n",
      "Avicennia marina\n",
      "Avicennia officinalis\n",
      "Barringtonia acutangula\n",
      "Bruguiera\n",
      "Bruguiera sexangula\n",
      "Bu Tinah\n",
      "Ceriops\n",
      "Ceriops australis\n",
      "Ceriops decandra\n",
      "Ceriops tagal\n",
      "Collier-Seminole State Park\n",
      "Conocarpus erectus\n",
      "False Divi Point\n",
      "Graeme Hall Nature Sanctuary\n",
      "Guapimirim Environmental Protection Area\n",
      "Heritiera fomes\n",
      "Heritiera littoralis\n",
      "Hoi Ha Wan\n",
      "Kandelia\n",
      "Kandelia candel\n",
      "Kandelia obovata\n",
      "Kumarakom\n",
      "Laguncularia racemosa\n",
      "List of mangrove tree species of Australia\n",
      "Lumnitzera\n",
      "Madu Ganga\n",
      "Mangrove restoration\n",
      "Mangrove theme park, Kannur\n",
      "Nypa fruticans\n",
      "Palmyras Point\n",
      "Pelliciera\n",
      "Point Calimere\n",
      "Point Calimere Wildlife and Bird Sanctuary\n",
      "Rhizophora\n",
      "Rhizophora apiculata\n",
      "Rhizophora x lamarckii\n",
      "Rhizophora mangle\n",
      "Scyphiphora\n",
      "Mangroves of the Straits of Malacca\n",
      "Top dying disease\n",
      "Tropical salt pond ecosystem\n",
      "Umlalazi Nature Reserve\n",
      "Xylocarpus\n",
      "Xylocarpus granatum\n"
     ]
    }
   ],
   "source": [
    "for p in category_dict['pages']:\n",
    "    print p['title']\n",
    "#    wiki.query_page(pageid=str(p['pageid']))\n",
    "    result = q.enqueue(fetch_and_store_page, str(p['pageid']) )"
   ]
  },
  {
   "cell_type": "code",
   "execution_count": 14,
   "metadata": {
    "collapsed": true
   },
   "outputs": [],
   "source": [
    "category_name = 'Mangroves'\n",
    "category_dict = wiki.query_category(category_name)\n",
    "db_location = 'local'\n",
    "pickled_transformer = joblib.load('data/vectorizer.pkl')"
   ]
  },
  {
   "cell_type": "code",
   "execution_count": 15,
   "metadata": {
    "collapsed": false
   },
   "outputs": [
    {
     "name": "stdout",
     "output_type": "stream",
     "text": [
      "Connected to server localhost.\n"
     ]
    }
   ],
   "source": [
    "category = down.wikipedia_get_page(category_name, category=True)\n",
    "cate_id = category.keys()[0]\n",
    "db.create_or_update_category_in_database(cate_id,category_name,db_location)\n",
    "\n",
    "pages = down.wikipedia_get_pages_for_category(category_name)"
   ]
  },
  {
   "cell_type": "code",
   "execution_count": 11,
   "metadata": {
    "collapsed": false
   },
   "outputs": [
    {
     "name": "stderr",
     "output_type": "stream",
     "text": [
      "Downloading Mangroves:   0%|          | 0/55 [00:00<?, ?it/s]\n"
     ]
    },
    {
     "ename": "TypeError",
     "evalue": "cannot concatenate 'str' and 'int' objects",
     "output_type": "error",
     "traceback": [
      "\u001b[0;31m---------------------------------------------------------------------------\u001b[0m",
      "\u001b[0;31mTypeError\u001b[0m                                 Traceback (most recent call last)",
      "\u001b[0;32m<ipython-input-11-4cba47e1b382>\u001b[0m in \u001b[0;36m<module>\u001b[0;34m()\u001b[0m\n\u001b[1;32m      1\u001b[0m \u001b[0;32mfor\u001b[0m \u001b[0mpage\u001b[0m \u001b[0;32min\u001b[0m \u001b[0mtqdm\u001b[0m\u001b[0;34m.\u001b[0m\u001b[0mtqdm\u001b[0m\u001b[0;34m(\u001b[0m\u001b[0mpages\u001b[0m\u001b[0;34m,\u001b[0m\u001b[0mdesc\u001b[0m\u001b[0;34m=\u001b[0m\u001b[0;34m'Downloading {}'\u001b[0m\u001b[0;34m.\u001b[0m\u001b[0mformat\u001b[0m\u001b[0;34m(\u001b[0m\u001b[0mcategory_name\u001b[0m\u001b[0;34m)\u001b[0m\u001b[0;34m)\u001b[0m\u001b[0;34m:\u001b[0m\u001b[0;34m\u001b[0m\u001b[0m\n\u001b[1;32m      2\u001b[0m     result = q.enqueue_call(func=down.fetch_and_store_page_no_vector, args=(\"title=\"+page[u'title'],\n\u001b[0;32m----> 3\u001b[0;31m                                                                    \u001b[0;34m\"page_id=\"\u001b[0m\u001b[0;34m+\u001b[0m\u001b[0mpage\u001b[0m\u001b[0;34m[\u001b[0m\u001b[0;34m'pageid'\u001b[0m\u001b[0;34m]\u001b[0m\u001b[0;34m,\u001b[0m\u001b[0;34m\u001b[0m\u001b[0m\n\u001b[0m\u001b[1;32m      4\u001b[0m                                                                     \u001b[0;34m\"category_number=\"\u001b[0m\u001b[0;34m+\u001b[0m\u001b[0mstr\u001b[0m\u001b[0;34m(\u001b[0m\u001b[0mcate_id\u001b[0m\u001b[0;34m)\u001b[0m\u001b[0;34m,\u001b[0m\u001b[0;34m\u001b[0m\u001b[0m\n\u001b[1;32m      5\u001b[0m                                                                     \"db_location=\"+db_location))\n",
      "\u001b[0;31mTypeError\u001b[0m: cannot concatenate 'str' and 'int' objects"
     ]
    }
   ],
   "source": [
    "for page in tqdm.tqdm(pages,desc='Downloading {}'.format(category_name)):\n",
    "    result = q.enqueue_call(func=down.fetch_and_store_page_no_vector, args=(\"title=\"+page[u'title'],\n",
    "                                                                   \"page_id=\"+page['pageid'],\n",
    "                                                                    \"category_number=\"+str(cate_id),\n",
    "                                                                    \"db_location=\"+db_location))\n",
    "    print page['pageid']\n",
    "\n"
   ]
  },
  {
   "cell_type": "code",
   "execution_count": 10,
   "metadata": {
    "collapsed": false
   },
   "outputs": [
    {
     "name": "stderr",
     "output_type": "stream",
     "text": [
      "Downloading Mangroves:  20%|██        | 1/5 [00:00<00:01,  2.64it/s]"
     ]
    },
    {
     "name": "stdout",
     "output_type": "stream",
     "text": [
      "Connected to server localhost.\n",
      "20971708\n"
     ]
    },
    {
     "name": "stderr",
     "output_type": "stream",
     "text": [
      "\r",
      "Downloading Mangroves:  40%|████      | 2/5 [00:00<00:01,  2.77it/s]"
     ]
    },
    {
     "name": "stdout",
     "output_type": "stream",
     "text": [
      "Connected to server localhost.\n",
      "27417625\n"
     ]
    },
    {
     "name": "stderr",
     "output_type": "stream",
     "text": [
      "\r",
      "Downloading Mangroves:  60%|██████    | 3/5 [00:01<00:00,  2.71it/s]"
     ]
    },
    {
     "name": "stdout",
     "output_type": "stream",
     "text": [
      "Connected to server localhost.\n",
      "42665992\n"
     ]
    },
    {
     "name": "stderr",
     "output_type": "stream",
     "text": [
      "\r",
      "Downloading Mangroves:  80%|████████  | 4/5 [00:01<00:00,  2.79it/s]"
     ]
    },
    {
     "name": "stdout",
     "output_type": "stream",
     "text": [
      "Connected to server localhost.\n",
      "4372485\n"
     ]
    },
    {
     "name": "stderr",
     "output_type": "stream",
     "text": [
      "\r",
      "Downloading Mangroves: 100%|██████████| 5/5 [00:01<00:00,  2.76it/s]"
     ]
    },
    {
     "name": "stdout",
     "output_type": "stream",
     "text": [
      "Connected to server localhost.\n",
      "2983302\n"
     ]
    },
    {
     "name": "stderr",
     "output_type": "stream",
     "text": [
      "\n"
     ]
    }
   ],
   "source": [
    "for page in tqdm.tqdm(pages[5:10],desc='Downloading {}'.format(category_name)):\n",
    "    down.fetch_and_store_page_no_vector(title=page[u'title'],\n",
    "                                        page_id=page['pageid'],\n",
    "                                        category_number=cate_id,\n",
    "                                        db_location=db_location)\n",
    "    print page['pageid']"
   ]
  },
  {
   "cell_type": "code",
   "execution_count": 25,
   "metadata": {
    "collapsed": false
   },
   "outputs": [
    {
     "data": {
      "text/plain": [
       "'local'"
      ]
     },
     "execution_count": 25,
     "metadata": {},
     "output_type": "execute_result"
    }
   ],
   "source": [
    "db_location"
   ]
  },
  {
   "cell_type": "code",
   "execution_count": 30,
   "metadata": {
    "collapsed": false
   },
   "outputs": [
    {
     "name": "stderr",
     "output_type": "stream",
     "text": [
      "Downloading Mangroves: 100%|██████████| 55/55 [00:00<00:00, 446.52it/s]"
     ]
    },
    {
     "name": "stdout",
     "output_type": "stream",
     "text": [
      "73448\n",
      "3571585\n",
      "26793225\n",
      "26790549\n",
      "23265805\n",
      "20971708\n",
      "27417625\n",
      "42665992\n",
      "4372485\n",
      "2983302\n",
      "20792317\n",
      "11863897\n",
      "29590712\n",
      "29592807\n",
      "24261777\n",
      "22017682\n",
      "53413878\n",
      "46393577\n",
      "39297858\n",
      "3681742\n",
      "1378146\n",
      "28647136\n",
      "8971349\n",
      "16466539\n",
      "31646244\n",
      "11604378\n",
      "914245\n",
      "43761952\n",
      "21716221\n",
      "21715970\n",
      "1329110\n",
      "5904003\n",
      "30591782\n",
      "27897568\n",
      "3505966\n",
      "36309813\n",
      "36808281\n",
      "30863534\n",
      "33722657\n",
      "33890755\n",
      "1252943\n",
      "1252965\n",
      "4372390\n",
      "12912855\n",
      "26244617\n",
      "4372188\n",
      "9321885\n",
      "26817576\n",
      "45490202\n",
      "35300839\n",
      "2853846\n",
      "17726189\n",
      "31247637\n",
      "43495387\n",
      "17726246\n"
     ]
    },
    {
     "name": "stderr",
     "output_type": "stream",
     "text": [
      "\n"
     ]
    }
   ],
   "source": [
    "for page in tqdm.tqdm(pages,desc='Downloading {}'.format(category_name)):\n",
    "    result = q.enqueue(rq_worker_download.fetch_and_store_page,  \n",
    "                       page[u'title'], \n",
    "                       page['pageid'], \n",
    "                       cate_id, \n",
    "                       db_location)\n",
    "    print page['pageid']"
   ]
  },
  {
   "cell_type": "markdown",
   "metadata": {
    "collapsed": true
   },
   "source": [
    "## rq docker file notes are here: \n",
    "http://sherzberg.github.io/docker-workshop/pages/full_example_python.html"
   ]
  }
 ],
 "metadata": {
  "kernelspec": {
   "display_name": "Python [conda root]",
   "language": "python",
   "name": "conda-root-py"
  },
  "language_info": {
   "codemirror_mode": {
    "name": "ipython",
    "version": 2
   },
   "file_extension": ".py",
   "mimetype": "text/x-python",
   "name": "python",
   "nbconvert_exporter": "python",
   "pygments_lexer": "ipython2",
   "version": "2.7.13"
  }
 },
 "nbformat": 4,
 "nbformat_minor": 2
}
