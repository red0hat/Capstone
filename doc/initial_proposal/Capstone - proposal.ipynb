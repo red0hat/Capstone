{
 "cells": [
  {
   "cell_type": "markdown",
   "metadata": {},
   "source": [
    "# Proposition: Organizations, specifically performing arts organizations, lack diversity without an active effort to include a diverse staff or artistic product.\n",
    "\n",
    "Diveristy is being considered on the axes of gender, age, ethnic/regional origin.  \n",
    "\n",
    "The current premise is that performing arts is influenced by the administrative structure of a performing arts company strongly influences it's output. Moreover, the output is reflective of the administration unless a concerted effort is made to include different points of view. "
   ]
  },
  {
   "cell_type": "markdown",
   "metadata": {},
   "source": [
    " "
   ]
  },
  {
   "cell_type": "markdown",
   "metadata": {},
   "source": [
    "## To map the problem, the structure of a company needs to be documented.  \n",
    "\n",
    "The axes for the organization can include, but not be limited to, department, level and date. This should approximate an org chart with changes over time."
   ]
  },
  {
   "cell_type": "markdown",
   "metadata": {},
   "source": [
    "A measure of the diversity of the organization will be required.  If the \"non-diverse\" organization is defined as controled by a sterotypical group in charge, the sterotypical group is an older straight Eurpean male.  Then a diverse organization would be one that deviates from that sterotypical group.   \n",
    "\n",
    "Another definition of diversity could related to how closely the organization reflects the local populace.  Gender diversity would be expected to be near even in an organzation.  Ethnic diversity may vary based on locale, but nationally, the expectation is 64% white, 12% African-American, 5% Asian, 16% Latino.  \n",
    "\n",
    "The Candian government has promoted a formula for calculating diversity.  They have 4 class of of minority status: Female, person with diability, aborignal person, and visible minority.  To belong to a minority, a person must self identify in at least one minority category.  The percent diversity is number of self identified minorities divided by total headcount.\n",
    "\n",
    "As an aside, diversity is not the goal.  It is being used to note the inclusion of groups that have been excluded from the typical power structure.  The model of definining diversity as just based on the headcount doesn't describe the power structure of the organization.  Perhaps the weighting the \"diversity\" based on the position will better capture the diversity of the oprganization.  If the group with the least decision making authority are more diverse than levels with decision making authority, the overall diveristy should be very low.  This type of structure seems to represent the status quo rather than goal of \"increasing diversity\".\n",
    "\n"
   ]
  },
  {
   "cell_type": "markdown",
   "metadata": {},
   "source": [
    " "
   ]
  },
  {
   "cell_type": "markdown",
   "metadata": {},
   "source": [
    "The assertion of more diverse story telling is better story telling may need to supported, if not proven.  Alternately, representation in a performing arts organization might not be a valid goal, in of itself.  Instead representation should lead to another (preferably measurable) benefit for the organization."
   ]
  },
  {
   "cell_type": "markdown",
   "metadata": {
    "collapsed": true
   },
   "source": [
    " "
   ]
  },
  {
   "cell_type": "markdown",
   "metadata": {},
   "source": [
    "## Diversity definition and discussion\n",
    "\n",
    "Diversity is discussed on many levels.  It can be thought of as a few things:\n",
    "\n",
    "1. As just a description of variation of the population within a sample.\n",
    "1. As a description of the variation of a sample when compared to a general population.\n",
    "1. As a description of how sample is biased to selecting new memebers that are similar to the sterotypical group.\n",
    "\n",
    "The third definition is most useful in this situation.  The goal is to quantify the inclusion of individuals from groups that have been excluded from a power structure.  I'll acknowledge this is a mixing of terms, but it is the common venacular of speaking about diversity.  In this example, a group that is composed entirely of a single minority gorup would be considered very diverse, because they are distinct from the sterotypical group.\n",
    "\n",
    "### \"People ask me sometimes, when — when do you think it will it be enough? When will there be enough women on the court? And my answer is when there are nine.\" - Ruth Bader Ginsberg"
   ]
  },
  {
   "cell_type": "markdown",
   "metadata": {
    "collapsed": true
   },
   "source": []
  }
 ],
 "metadata": {
  "anaconda-cloud": {},
  "kernelspec": {
   "display_name": "Python [default]",
   "language": "python",
   "name": "python2"
  },
  "language_info": {
   "codemirror_mode": {
    "name": "ipython",
    "version": 2
   },
   "file_extension": ".py",
   "mimetype": "text/x-python",
   "name": "python",
   "nbconvert_exporter": "python",
   "pygments_lexer": "ipython2",
   "version": "2.7.12"
  }
 },
 "nbformat": 4,
 "nbformat_minor": 1
}
