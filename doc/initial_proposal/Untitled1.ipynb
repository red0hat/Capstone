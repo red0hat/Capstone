{
 "cells": [
  {
   "cell_type": "code",
   "execution_count": 18,
   "metadata": {
    "collapsed": true
   },
   "outputs": [],
   "source": [
    "import pandas as pd\n",
    "import re\n",
    "import google\n",
    "import requests\n",
    "from bs4 import BeautifulSoup\n",
    "import nltk\n",
    "import unidecode"
   ]
  },
  {
   "cell_type": "code",
   "execution_count": 2,
   "metadata": {
    "collapsed": true
   },
   "outputs": [],
   "source": [
    "#copied from http://timmcnamara.co.nz/post/2650550090/extracting-names-with-6-lines-of-python-code\n",
    "def extract_entities(text):\n",
    "    for sent in nltk.sent_tokenize(text):\n",
    "        for chunk in nltk.ne_chunk(nltk.pos_tag(nltk.word_tokenize(sent))):\n",
    "            if hasattr(chunk, 'node'):\n",
    "                print chunk.node, ' '.join(c[0] for c in chunk.leaves())"
   ]
  },
  {
   "cell_type": "code",
   "execution_count": 3,
   "metadata": {
    "collapsed": false
   },
   "outputs": [],
   "source": [
    "with open ('./lort.list') as f:\n",
    "    lorts = [w.strip() for w in f.readlines()]\n",
    "    "
   ]
  },
  {
   "cell_type": "code",
   "execution_count": 4,
   "metadata": {
    "collapsed": false
   },
   "outputs": [],
   "source": [
    "# query = [\"https://www.google.com/#q=\"+w.replace(' ','+',)+\"+artistic+director\" for w in lorts]\n",
    "query = [w.replace(' ','+',)+\"+artistic+director\" for w in lorts]"
   ]
  },
  {
   "cell_type": "code",
   "execution_count": null,
   "metadata": {
    "collapsed": false
   },
   "outputs": [],
   "source": [
    "\n"
   ]
  },
  {
   "cell_type": "code",
   "execution_count": 5,
   "metadata": {
    "collapsed": true
   },
   "outputs": [],
   "source": [
    "q = google.search(query[0])"
   ]
  },
  {
   "cell_type": "code",
   "execution_count": 6,
   "metadata": {
    "collapsed": false
   },
   "outputs": [],
   "source": [
    "obj = q.next()\n",
    "info = requests.get(obj)\n"
   ]
  },
  {
   "cell_type": "code",
   "execution_count": 7,
   "metadata": {
    "collapsed": false
   },
   "outputs": [],
   "source": [
    "lines = [w for w in info.iter_lines()]"
   ]
  },
  {
   "cell_type": "code",
   "execution_count": 9,
   "metadata": {
    "collapsed": false
   },
   "outputs": [
    {
     "name": "stdout",
     "output_type": "stream",
     "text": [
      "None\n",
      "None\n",
      "None\n",
      "None\n"
     ]
    }
   ],
   "source": [
    "for line in lines:\n",
    "    if \"Artistic Director\" in line:\n",
    "        print extract_entities(line)"
   ]
  },
  {
   "cell_type": "code",
   "execution_count": 25,
   "metadata": {
    "collapsed": false
   },
   "outputs": [],
   "source": [
    "paragraph = 'John Lang is ACTs Artistic Director after serving as Associate Artistic Director for three years. Lang 16–year freelance career has afforded him the opportunity to work with many prestigious theatre companies across the country. He has directed productions at Playwrights Horizons NY, Ensemble Studio Theater NY, Milwaukee Repertory Theatre, Lookingglass Theater Company in Chicago, Circle X in Los Angeles, The Resident Ensemble, New Century Theatre Company, Washington Ensemble Theatre, and Seattle Shakespeare Company. Langs received his directing degree fromthe University of North Carolina School of the Arts. Some of his favorite directing credits include The Shaggs Philosophy of the World (Los Angeles Drama Critic Circle Award for Best Original Musical), and Brothers Karamazov (seven LADCC Awards including Best Production of the year and Best Direction) and directing Kurt Beattie in King Lear. Langs received the first annual Seattle Gregory Award honoring excellence in direction for The Adding Machine. Recent Seattle credits include NCTC’s Mary’s Wedding, The Seagull Project’s The Three Sisters, and Seattle Shakespeare’s Othello. As a dedicated fan of original work, Langs has shepherded over a dozen projects to their premier production.'\n"
   ]
  },
  {
   "cell_type": "code",
   "execution_count": 27,
   "metadata": {
    "collapsed": false
   },
   "outputs": [
    {
     "name": "stderr",
     "output_type": "stream",
     "text": [
      "/Users/chris/anaconda/lib/python2.7/site-packages/unidecode/__init__.py:63: RuntimeWarning: Argument <type 'str'> is not an unicode object. Passing an encoded string will likely have unexpected results.\n",
      "  _warn_if_not_unicode(string)\n"
     ]
    }
   ],
   "source": [
    "decoded= unidecode.unidecode_expect_nonascii(paragraph)\n"
   ]
  },
  {
   "cell_type": "code",
   "execution_count": 31,
   "metadata": {
    "collapsed": false
   },
   "outputs": [
    {
     "data": {
      "text/plain": [
       "'John Lang is ACTs Artistic Director after serving as Associate Artistic Director for three years. Lang 16ayear freelance career has afforded him the opportunity to work with many prestigious theatre companies across the country. He has directed productions at Playwrights Horizons NY, Ensemble Studio Theater NY, Milwaukee Repertory Theatre, Lookingglass Theater Company in Chicago, Circle X in Los Angeles, The Resident Ensemble, New Century Theatre Company, Washington Ensemble Theatre, and Seattle Shakespeare Company. Langs received his directing degree fromthe University of North Carolina School of the Arts. Some of his favorite directing credits include The Shaggs Philosophy of the World (Los Angeles Drama Critic Circle Award for Best Original Musical), and Brothers Karamazov (seven LADCC Awards including Best Production of the year and Best Direction) and directing Kurt Beattie in King Lear. Langs received the first annual Seattle Gregory Award honoring excellence in direction for The Adding Machine. Recent Seattle credits include NCTCas Maryas Wedding, The Seagull Projectas The Three Sisters, and Seattle Shakespeareas Othello. As a dedicated fan of original work, Langs has shepherded over a dozen projects to their premier production.'"
      ]
     },
     "execution_count": 31,
     "metadata": {},
     "output_type": "execute_result"
    }
   ],
   "source": [
    "decoded"
   ]
  },
  {
   "cell_type": "code",
   "execution_count": 35,
   "metadata": {
    "collapsed": false
   },
   "outputs": [],
   "source": [
    "extract_entities(decoded)"
   ]
  },
  {
   "cell_type": "code",
   "execution_count": 52,
   "metadata": {
    "collapsed": false
   },
   "outputs": [
    {
     "name": "stdout",
     "output_type": "stream",
     "text": [
      "(PERSON John/NNP)\n",
      "(PERSON Lang/NNP)\n",
      "('is', 'VBZ')\n",
      "(ORGANIZATION ACTs/NNP Artistic/NNP)\n",
      "('Director', 'NNP')\n",
      "('after', 'IN')\n",
      "('serving', 'VBG')\n",
      "('as', 'RB')\n",
      "(ORGANIZATION Associate/NNP Artistic/NNP)\n",
      "('Director', 'NNP')\n",
      "('for', 'IN')\n",
      "('three', 'CD')\n",
      "('years', 'NNS')\n",
      "('.', '.')\n"
     ]
    }
   ],
   "source": [
    "for chunk in nltk.ne_chunk(nltk.pos_tag(nltk.word_tokenize('John Lang is ACTs Artistic Director after serving as Associate Artistic Director for three years.'))):\n",
    "    print chunk"
   ]
  },
  {
   "cell_type": "code",
   "execution_count": null,
   "metadata": {
    "collapsed": true
   },
   "outputs": [],
   "source": [
    "chunk."
   ]
  }
 ],
 "metadata": {
  "anaconda-cloud": {},
  "kernelspec": {
   "display_name": "Python [conda root]",
   "language": "python",
   "name": "conda-root-py"
  },
  "language_info": {
   "codemirror_mode": {
    "name": "ipython",
    "version": 2
   },
   "file_extension": ".py",
   "mimetype": "text/x-python",
   "name": "python",
   "nbconvert_exporter": "python",
   "pygments_lexer": "ipython2",
   "version": "2.7.12"
  }
 },
 "nbformat": 4,
 "nbformat_minor": 1
}
