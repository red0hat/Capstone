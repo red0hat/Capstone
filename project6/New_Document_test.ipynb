{
 "cells": [
  {
   "cell_type": "code",
   "execution_count": 3,
   "metadata": {
    "collapsed": false
   },
   "outputs": [],
   "source": [
    "import lib.database_module as db\n",
    "import lib.encoding_module as en\n",
    "import lib.download_mine as down\n",
    "from sklearn.externals import joblib\n",
    "import gensim\n",
    "import string\n",
    "import re\n",
    "import pandas as pd\n",
    "import numpy as np\n",
    "from sklearn.model_selection import train_test_split\n",
    "from sklearn.metrics import accuracy_score\n",
    "from sklearn.metrics.pairwise import cosine_similarity\n",
    "import tqdm"
   ]
  },
  {
   "cell_type": "code",
   "execution_count": null,
   "metadata": {
    "collapsed": false
   },
   "outputs": [],
   "source": [
    "Subcategories_dict = {'Sandwiches':'American sandwiches',\n",
    "                'desserts':'cookies',\n",
    "                'chemistry':'Industrial gases',\n",
    "                'physics':'physicists',\n",
    "                'sports cars': 'muscle cars',\n",
    "                'psychology':'Popular psychology',\n",
    "                'Arcade games':'Cancelled arcade games',\n",
    "                'machine learning':'Classification algorithms',\n",
    "                'cat breeds':'Natural cat breeds',\n",
    "                'Earth sciences':'Geochemistry',\n",
    "                'Breads':'Bread dishes',\n",
    "                'Automotive technologies':'Vehicle dynamics',\n",
    "                'belief':'Ignorance',\n",
    "                'hygiene':'Ritual purification',\n",
    "                'sports terminology':'martial arts terminology',\n",
    "                'shoes':'Sneaker culture',\n",
    "                'influenza':'Influenza researchers',\n",
    "                'Children':'Sons of Odin',\n",
    "                'physical quantities':'Density',\n",
    "                'Physical exercise':'hydrotherapy',\n",
    "                'health care':'medical robotics'\n",
    "                }"
   ]
  },
  {
   "cell_type": "markdown",
   "metadata": {},
   "source": [
    "### testing plan:\n",
    "\n",
    " * Download the categories,\n",
    " * download the pages,\n",
    " * vectorize the pages.\n",
    " * Match parent category_id to page vector.\n",
    " * Test accuracy of category prediction,\n",
    " * produce predicted probability and graphic. Roc curve?V"
   ]
  },
  {
   "cell_type": "code",
   "execution_count": null,
   "metadata": {
    "collapsed": false
   },
   "outputs": [],
   "source": [
    "Subcategory_number_dict = {}\n",
    "\n",
    "for k,v in tqdm.tqdm_notebook(Subcategories_dict.items()):\n",
    "    parent = down.wikipedia_get_page(k, category=True)\n",
    "    child =  down.wikipedia_get_page(v, category=True)\n",
    "    Subcategory_number_dict[v] ={'parent_name':k,\n",
    "                                 'parent_id':int(parent.keys()[0]) , \n",
    "                                 'category_id': int(child.keys()[0]),\n",
    "                                 'pages': {p['pageid']: p['title'] \n",
    "                                           for p in down.wikipedia_get_pages_for_category(v) \n",
    "                                           if p['ns'] == 0}}"
   ]
  },
  {
   "cell_type": "code",
   "execution_count": null,
   "metadata": {
    "collapsed": true
   },
   "outputs": [],
   "source": [
    "\n"
   ]
  },
  {
   "cell_type": "code",
   "execution_count": null,
   "metadata": {
    "collapsed": false
   },
   "outputs": [],
   "source": [
    "vectorizer = joblib.load('data/vectorizer.pkl')\n",
    "predcition_accuracy = []\n",
    "text = []\n",
    "y = []\n",
    "for k,v in tqdm.tqdm_notebook(Subcategory_number_dict.items()):\n",
    "    for p in v['pages'].keys():\n",
    "        text.append(en.clean_page_text(down.get_text(p)))\n",
    "        y.append(v['category_id'])"
   ]
  },
  {
   "cell_type": "code",
   "execution_count": null,
   "metadata": {
    "collapsed": false
   },
   "outputs": [],
   "source": [
    "X_validation = vectorizer.transform(text)"
   ]
  },
  {
   "cell_type": "code",
   "execution_count": null,
   "metadata": {
    "collapsed": false
   },
   "outputs": [],
   "source": [
    "cos_sim = cosine_similarity([12],[12])"
   ]
  },
  {
   "cell_type": "code",
   "execution_count": null,
   "metadata": {
    "collapsed": false
   },
   "outputs": [],
   "source": [
    "cos_sim.view()"
   ]
  },
  {
   "cell_type": "code",
   "execution_count": 7,
   "metadata": {
    "collapsed": false
   },
   "outputs": [
    {
     "name": "stderr",
     "output_type": "stream",
     "text": [
      "100%|██████████| 100000/100000 [00:00<00:00, 1714648.27it/s]\n"
     ]
    },
    {
     "name": "stdout",
     "output_type": "stream",
     "text": [
      "\n"
     ]
    },
    {
     "name": "stderr",
     "output_type": "stream",
     "text": [
      "Warning: GUI is experimental/alpha\n"
     ]
    }
   ],
   "source": [
    "for i in tqdm.tqdm(range(100000)): s=i**2\n",
    "    \n",
    "for i in tqdm.tqdm_notebook(range(100000)): s=i**2\n",
    "    \n"
   ]
  },
  {
   "cell_type": "code",
   "execution_count": null,
   "metadata": {
    "collapsed": false
   },
   "outputs": [],
   "source": []
  },
  {
   "cell_type": "code",
   "execution_count": null,
   "metadata": {
    "collapsed": true
   },
   "outputs": [],
   "source": []
  }
 ],
 "metadata": {
  "kernelspec": {
   "display_name": "Python [conda root]",
   "language": "python",
   "name": "conda-root-py"
  },
  "language_info": {
   "codemirror_mode": {
    "name": "ipython",
    "version": 2
   },
   "file_extension": ".py",
   "mimetype": "text/x-python",
   "name": "python",
   "nbconvert_exporter": "python",
   "pygments_lexer": "ipython2",
   "version": "2.7.13"
  },
  "widgets": {
   "state": {
    "76c53186899243d896c79c40b7ac7591": {
     "views": [
      {
       "cell_index": 3
      }
     ]
    },
    "bc6f2d7f77cf4c0bb5d822529d313501": {
     "views": [
      {
       "cell_index": 5
      }
     ]
    },
    "c1bfb635e3e84c9b900160eed84a2e87": {
     "views": [
      {
       "cell_index": 9
      }
     ]
    }
   },
   "version": "1.2.0"
  }
 },
 "nbformat": 4,
 "nbformat_minor": 2
}
