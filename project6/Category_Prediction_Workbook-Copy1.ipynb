{
 "cells": [
  {
   "cell_type": "markdown",
   "metadata": {},
   "source": [
    "# Classifier testing"
   ]
  },
  {
   "cell_type": "code",
   "execution_count": 1,
   "metadata": {
    "collapsed": false
   },
   "outputs": [],
   "source": [
    "import lib.database_module as db\n",
    "import lib.encoding_module as en\n",
    "import lib.download_mine as down\n",
    "from sklearn.externals import joblib\n",
    "import pandas as pd\n",
    "import numpy as np\n",
    "\n",
    "from sklearn.model_selection import train_test_split\n",
    "from sklearn.metrics import accuracy_score\n",
    "from sklearn.metrics.pairwise import cosine_similarity\n",
    "import tqdm\n",
    "import sklearn.discriminant_analysis as da\n",
    "import sklearn.cluster as cluster\n",
    "import sklearn.neighbors as neighbors\n",
    "import sklearn.neural_network as nn\n",
    "from sklearn.model_selection import GridSearchCV"
   ]
  },
  {
   "cell_type": "code",
   "execution_count": 2,
   "metadata": {
    "collapsed": false
   },
   "outputs": [],
   "source": [
    "vectors= db.fetch_all_category_vectors('local')"
   ]
  },
  {
   "cell_type": "code",
   "execution_count": 3,
   "metadata": {
    "collapsed": false
   },
   "outputs": [],
   "source": [
    "y = []\n",
    "X = []\n",
    "\n",
    "for v in vectors:\n",
    "    v[1].insert(0,v[0])\n",
    "    x = np.array(v[1])\n",
    "    X.append(x)\n",
    "vector_df = pd.DataFrame(X)\n",
    "X_train, X_test, y_train, y_test = train_test_split(vector_df.iloc[:,1:],vector_df[0])"
   ]
  },
  {
   "cell_type": "code",
   "execution_count": 4,
   "metadata": {
    "collapsed": false
   },
   "outputs": [
    {
     "name": "stdout",
     "output_type": "stream",
     "text": [
      "{}\n",
      "{}\n",
      "{}\n",
      "{}\n",
      "{}\n",
      "{}\n",
      "{}\n",
      "{}\n",
      "{}\n",
      "{}\n",
      "{}\n",
      "{}\n",
      "{}\n",
      "{}\n",
      "{}\n",
      "{}\n",
      "{}\n",
      "{}\n",
      "{}\n",
      "{}\n",
      "{}\n",
      "\n"
     ]
    }
   ],
   "source": [
    "vectorizer = joblib.load('data/vectorizer.pkl')\n",
    "\n",
    "Subcategories_dict = {'Sandwiches':'American sandwiches',\n",
    "                'desserts':'cookies',\n",
    "                'chemistry':'Industrial gases',\n",
    "                'physics':'physicists',\n",
    "                'sports cars': 'muscle cars',\n",
    "                'psychology':'Popular psychology',\n",
    "                'Arcade games':'Cancelled arcade games',\n",
    "                'machine learning':'Classification algorithms',\n",
    "                'cat breeds':'Natural cat breeds',\n",
    "                'Earth sciences':'Geochemistry',\n",
    "                'Breads':'Bread dishes',\n",
    "                'Automotive technologies':'Vehicle dynamics',\n",
    "                'belief':'Ignorance',\n",
    "                'hygiene':'Ritual purification',\n",
    "                'sports terminology':'martial arts terminology',\n",
    "                'shoes':'Sneaker culture',\n",
    "                'influenza':'Influenza researchers',\n",
    "                'Children':'Sons of Odin',\n",
    "                'physical quantities':'Density',\n",
    "                'Physical exercise':'hydrotherapy',\n",
    "                'health care':'medical robotics'\n",
    "                }\n",
    "\n",
    "Subcategory_number_dict = {}\n",
    "\n",
    "for k,v in tqdm.tqdm_notebook(Subcategories_dict.items()):\n",
    "    parent = down.wikipedia_get_page(k, category=True)\n",
    "    child =  down.wikipedia_get_page(v, category=True)\n",
    "    Subcategory_number_dict[v] ={'parent_name':k,\n",
    "                                 'parent_id':int(parent.keys()[0]) , \n",
    "                                 'category_id': int(child.keys()[0]),\n",
    "                                 'pages' :{p['pageid']: down.get_text(p['pageid']) \n",
    "                                           for p in down.wikipedia_get_pages_for_category(v) \n",
    "                                           if p['ns'] == 0}}\n",
    "X_validation = []\n",
    "y_validation = []\n",
    "for k, v in Subcategory_number_dict.items():\n",
    "    for key,text in v['pages'].items():\n",
    "        y_validation.append(v['parent_id'])\n",
    "        X_validation.append(en.clean_page_text(text))\n",
    "X_validation = vectorizer.transform(X_validation)\n"
   ]
  },
  {
   "cell_type": "markdown",
   "metadata": {},
   "source": [
    "## k Nearest Neighbors"
   ]
  },
  {
   "cell_type": "code",
   "execution_count": null,
   "metadata": {
    "collapsed": false
   },
   "outputs": [],
   "source": [
    "knn = neighbors.KNeighborsClassifier()\n",
    "knn.fit(X_train, y_train)"
   ]
  },
  {
   "cell_type": "code",
   "execution_count": null,
   "metadata": {
    "collapsed": false
   },
   "outputs": [],
   "source": [
    "gs_params = {'algorithm':['auto', 'ball_tree' ],\n",
    "             'p':[3], 'n_neighbors' : [3,5,7],\n",
    "             'weights': ['uniform' ,'distance']}\n",
    "gs = GridSearchCV(knn,param_grid=gs_params, n_jobs =3, verbose =2)"
   ]
  },
  {
   "cell_type": "code",
   "execution_count": null,
   "metadata": {
    "collapsed": false
   },
   "outputs": [],
   "source": [
    "gs.fit(X_train,y_train)\n",
    "gs.score(X_train,y_train)\n",
    "joblib.dump(gs,\"knn_gs\")"
   ]
  },
  {
   "cell_type": "code",
   "execution_count": null,
   "metadata": {
    "collapsed": false
   },
   "outputs": [],
   "source": [
    "print \"Training Set Accuracy: {:.1%}\".format(knn.score(X_train,y_train))\n",
    "print \"Testing Set Accuracy: {:.1%}\".format(gs.score(X_test,y_test))\n",
    "print \"Validation Set Accuracy: {:.1%}\".format(gs.score(X_validation,y_validation))"
   ]
  },
  {
   "cell_type": "code",
   "execution_count": null,
   "metadata": {
    "collapsed": false
   },
   "outputs": [],
   "source": [
    "gs.best_estimator_"
   ]
  },
  {
   "cell_type": "code",
   "execution_count": null,
   "metadata": {
    "collapsed": false
   },
   "outputs": [],
   "source": [
    "knn_best = neighbors.KNeighborsClassifier(algorithm='auto', leaf_size=30, metric='minkowski',\n",
    "           metric_params=None, n_jobs=2, n_neighbors=5, p=3,\n",
    "           weights='distance')\n",
    "knn_best.fit(X_train, y_train)\n",
    "print \"Training Set Accuracy: {:.1%}\".format(knn_best.score(X_train,y_train))\n",
    "print \"Testing Set Accuracy: {:.1%}\".format(knn_best.score(X_test,y_test))\n",
    "print \"Validation Set Accuracy: {:.1%}\".format(knn_best.score(X_validation,y_validation))"
   ]
  },
  {
   "cell_type": "code",
   "execution_count": null,
   "metadata": {
    "collapsed": false
   },
   "outputs": [],
   "source": [
    "gs.best_estimator_"
   ]
  },
  {
   "cell_type": "code",
   "execution_count": null,
   "metadata": {
    "collapsed": false
   },
   "outputs": [],
   "source": [
    "import sklearn.neural_network as nn\n",
    "mlpc = nn.MLPClassifier(verbose =1,\n",
    "                        max_iter=2000, \n",
    "                        activation = 'logistic',\n",
    "                        solver='adam',\n",
    "                        hidden_layer_sizes=(100,) ,\n",
    "                        tol=.00001)\n",
    "                    \n",
    "mlpc.fit(X_train, y_train)"
   ]
  },
  {
   "cell_type": "code",
   "execution_count": null,
   "metadata": {
    "collapsed": false
   },
   "outputs": [],
   "source": [
    "\n",
    "pred= mlpc.predict(X_test)\n",
    "mlpc_results = zip(pred,y_test)\n",
    "results = []\n",
    "for m in mlpc_results:\n",
    "    \n",
    "    if m[0] == m[1]:\n",
    "        results.append(int(1))\n",
    "    else:\n",
    "        results.append(int(0))\n",
    "accuracy = float(sum(results))/len(results)\n",
    "print(\"Accuracy: %.2f%%\" % (accuracy * 100.0))"
   ]
  },
  {
   "cell_type": "code",
   "execution_count": null,
   "metadata": {
    "collapsed": false
   },
   "outputs": [],
   "source": [
    "da_class = da.LinearDiscriminantAnalysis()\n",
    "da_class.fit_transform(X_train,y_train)"
   ]
  },
  {
   "cell_type": "code",
   "execution_count": null,
   "metadata": {
    "collapsed": false
   },
   "outputs": [],
   "source": [
    "da_class.predict(X_test)"
   ]
  },
  {
   "cell_type": "code",
   "execution_count": null,
   "metadata": {
    "collapsed": false
   },
   "outputs": [],
   "source": [
    "pred= da_class.predict(X_test)\n",
    "pred_results = zip(pred,y_test)\n",
    "results = []\n",
    "for k in pred_results:\n",
    "    if k[0] == k[1]:\n",
    "        results.append(int(1))\n",
    "    else:\n",
    "        results.append(int(0))\n",
    "accuracy = float(sum(results))/len(results)\n",
    "print(\"Accuracy: %.2f%%\" % (accuracy * 100.0))"
   ]
  },
  {
   "cell_type": "code",
   "execution_count": 7,
   "metadata": {
    "collapsed": false
   },
   "outputs": [],
   "source": [
    "import sklearn.ensemble as ens"
   ]
  },
  {
   "cell_type": "code",
   "execution_count": 9,
   "metadata": {
    "collapsed": false
   },
   "outputs": [
    {
     "name": "stdout",
     "output_type": "stream",
     "text": [
      "building tree 1 of 30building tree 2 of 30\n",
      "\n",
      "building tree 3 of 30\n",
      "building tree 4 of 30\n",
      "building tree 5 of 30\n",
      "building tree 6 of 30\n",
      "building tree 7 of 30\n",
      "building tree 8 of 30\n",
      "building tree 9 of 30\n",
      "building tree 10 of 30\n",
      "building tree 11 of 30\n",
      "building tree 12 of 30\n",
      "building tree 13 of 30\n",
      "building tree 14 of 30\n",
      "building tree 15 of 30\n",
      "building tree 16 of 30\n",
      "building tree 17 of 30\n",
      "building tree 18 of 30\n",
      "building tree 19 of 30\n",
      "building tree 20 of 30\n",
      "building tree 21 of 30\n",
      "building tree 22 of 30\n",
      "building tree 23 of 30\n",
      "building tree 24 of 30\n",
      "building tree 25 of 30\n",
      "building tree 26 of 30\n",
      "building tree 27 of 30\n",
      "building tree 28 of 30\n",
      "building tree 29 of 30\n",
      "building tree 30 of 30\n"
     ]
    },
    {
     "name": "stderr",
     "output_type": "stream",
     "text": [
      "[Parallel(n_jobs=2)]: Done  30 out of  30 | elapsed:    1.3s finished\n"
     ]
    },
    {
     "name": "stdout",
     "output_type": "stream",
     "text": [
      "building tree 2 of 30building tree 1 of 30\n",
      "\n",
      "building tree 3 of 30\n",
      "building tree 4 of 30\n",
      "building tree 5 of 30\n",
      "building tree 6 of 30\n",
      "building tree 7 of 30\n",
      "building tree 8 of 30\n",
      "building tree 9 of 30\n",
      "building tree 10 of 30\n",
      "building tree 11 of 30\n",
      "building tree 12 of 30\n",
      "building tree 13 of 30\n",
      "building tree 14 of 30\n",
      "building tree 15 of 30\n",
      "building tree 16 of 30\n",
      "building tree 17 of 30\n",
      "building tree 18 of 30\n",
      "building tree 19 of 30\n",
      "building tree 20 of 30\n",
      "building tree 21 of 30\n",
      "building tree 22 of 30\n",
      "building tree 23 of 30\n",
      "building tree 24 of 30\n",
      "building tree 25 of 30\n",
      "building tree 26 of 30\n",
      "building tree 27 of 30\n",
      "building tree 28 of 30\n",
      "building tree 29 of 30\n",
      "building tree 30 of 30\n"
     ]
    },
    {
     "name": "stderr",
     "output_type": "stream",
     "text": [
      "[Parallel(n_jobs=2)]: Done  30 out of  30 | elapsed:    1.8s finished\n"
     ]
    },
    {
     "name": "stdout",
     "output_type": "stream",
     "text": [
      "building tree 1 of 30\n",
      "building tree 2 of 30\n",
      "building tree 3 of 30 \n",
      "building tree 4 of 30\n",
      "building tree 5 of 30\n",
      " building tree 6 of 30\n",
      "building tree 7 of 30\n",
      "building tree 8 of 30\n",
      "building tree 9 of 30\n",
      "building tree 10 of 30\n",
      "building tree 11 of 30\n",
      "building tree 12 of 30\n",
      "building tree 13 of 30\n",
      "building tree 14 of 30\n",
      "building tree 15 of 30\n",
      "building tree 16 of 30\n",
      "building tree 17 of 30\n",
      "building tree 18 of 30\n",
      "building tree 19 of 30\n",
      "building tree 20 of 30\n",
      "building tree 21 of 30\n",
      "building tree 22 of 30\n",
      "building tree 23 of 30\n",
      "building tree 24 of 30\n",
      "building tree 25 of 30\n",
      "building tree 26 of 30\n",
      "building tree 27 of 30\n",
      "building tree 28 of 30\n",
      "building tree 29 of 30\n",
      "building tree 30 of 30\n"
     ]
    },
    {
     "name": "stderr",
     "output_type": "stream",
     "text": [
      "[Parallel(n_jobs=2)]: Done  30 out of  30 | elapsed:    1.3s finished\n"
     ]
    },
    {
     "name": "stdout",
     "output_type": "stream",
     "text": [
      "building tree 1 of 30\n",
      "building tree 2 of 30\n",
      "building tree 3 of 30\n",
      "building tree 4 of 30\n",
      "building tree 5 of 30\n",
      "building tree 6 of 30\n",
      "building tree 7 of 30\n",
      "building tree 8 of 30\n",
      "building tree 9 of 30\n",
      "building tree 10 of 30\n",
      "building tree 11 of 30\n",
      "building tree 12 of 30\n",
      "building tree 13 of 30\n",
      "building tree 14 of 30\n",
      "building tree 15 of 30\n",
      "building tree 16 of 30\n",
      "building tree 17 of 30\n",
      "building tree 18 of 30\n",
      "building tree 19 of 30\n",
      "building tree 20 of 30\n",
      "building tree 21 of 30\n",
      "building tree 22 of 30\n",
      "building tree 23 of 30\n",
      "building tree 24 of 30\n",
      "building tree 25 of 30\n",
      "building tree 26 of 30\n",
      "building tree 27 of 30\n",
      "building tree 28 of 30\n",
      "building tree 29 of 30\n",
      "building tree 30 of 30\n",
      "1 loop, best of 3: 1.61 s per loop\n"
     ]
    },
    {
     "name": "stderr",
     "output_type": "stream",
     "text": [
      "[Parallel(n_jobs=2)]: Done  30 out of  30 | elapsed:    1.8s finished\n"
     ]
    }
   ],
   "source": [
    "%%timeit tree = ens.RandomForestClassifier(n_estimators=30,n_jobs=2, verbose=2)\n",
    "tree.fit(X_train,y_train)"
   ]
  },
  {
   "cell_type": "code",
   "execution_count": null,
   "metadata": {
    "collapsed": true
   },
   "outputs": [],
   "source": [
    "print \"Training Set Accuracy: {:.1%}\".format(tree.score(X_train,y_train))\n",
    "print \"Testing Set Accuracy: {:.1%}\".format(tree.score(X_test,y_test))"
   ]
  },
  {
   "cell_type": "code",
   "execution_count": 10,
   "metadata": {
    "collapsed": false
   },
   "outputs": [
    {
     "name": "stderr",
     "output_type": "stream",
     "text": [
      "[Parallel(n_jobs=2)]: Done  30 out of  30 | elapsed:    0.0s finished\n",
      "[Parallel(n_jobs=2)]: Done  30 out of  30 | elapsed:    0.0s finished\n"
     ]
    },
    {
     "name": "stdout",
     "output_type": "stream",
     "text": [
      "Validation Set Accuracy: 67.3%\n",
      "Validation Set Accuracy: 67.3%\n"
     ]
    },
    {
     "name": "stderr",
     "output_type": "stream",
     "text": [
      "[Parallel(n_jobs=2)]: Done  30 out of  30 | elapsed:    0.0s finished\n",
      "[Parallel(n_jobs=2)]: Done  30 out of  30 | elapsed:    0.0s finished\n"
     ]
    },
    {
     "name": "stdout",
     "output_type": "stream",
     "text": [
      "Validation Set Accuracy: 67.3%\n",
      "Validation Set Accuracy: 67.3%\n"
     ]
    },
    {
     "name": "stderr",
     "output_type": "stream",
     "text": [
      "[Parallel(n_jobs=2)]: Done  30 out of  30 | elapsed:    0.0s finished\n",
      "[Parallel(n_jobs=2)]: Done  30 out of  30 | elapsed:    0.0s finished\n"
     ]
    },
    {
     "name": "stdout",
     "output_type": "stream",
     "text": [
      "Validation Set Accuracy: 67.3%\n",
      "Validation Set Accuracy: 67.3%\n"
     ]
    },
    {
     "name": "stderr",
     "output_type": "stream",
     "text": [
      "[Parallel(n_jobs=2)]: Done  30 out of  30 | elapsed:    0.0s finished\n",
      "[Parallel(n_jobs=2)]: Done  30 out of  30 | elapsed:    0.0s finished\n"
     ]
    },
    {
     "name": "stdout",
     "output_type": "stream",
     "text": [
      "Validation Set Accuracy: 67.3%\n",
      "Validation Set Accuracy: 67.3%\n"
     ]
    },
    {
     "name": "stderr",
     "output_type": "stream",
     "text": [
      "[Parallel(n_jobs=2)]: Done  30 out of  30 | elapsed:    0.0s finished\n",
      "[Parallel(n_jobs=2)]: Done  30 out of  30 | elapsed:    0.0s finished\n"
     ]
    },
    {
     "name": "stdout",
     "output_type": "stream",
     "text": [
      "Validation Set Accuracy: 67.3%\n",
      "Validation Set Accuracy: 67.3%\n"
     ]
    },
    {
     "name": "stderr",
     "output_type": "stream",
     "text": [
      "[Parallel(n_jobs=2)]: Done  30 out of  30 | elapsed:    0.0s finished\n",
      "[Parallel(n_jobs=2)]: Done  30 out of  30 | elapsed:    0.0s finished\n"
     ]
    },
    {
     "name": "stdout",
     "output_type": "stream",
     "text": [
      "Validation Set Accuracy: 67.3%\n",
      "Validation Set Accuracy: 67.3%\n"
     ]
    },
    {
     "name": "stderr",
     "output_type": "stream",
     "text": [
      "[Parallel(n_jobs=2)]: Done  30 out of  30 | elapsed:    0.1s finished\n",
      "[Parallel(n_jobs=2)]: Done  30 out of  30 | elapsed:    0.1s finished\n"
     ]
    },
    {
     "name": "stdout",
     "output_type": "stream",
     "text": [
      "Validation Set Accuracy: 67.3%\n",
      "Validation Set Accuracy: 67.3%\n"
     ]
    },
    {
     "name": "stderr",
     "output_type": "stream",
     "text": [
      "[Parallel(n_jobs=2)]: Done  30 out of  30 | elapsed:    0.1s finished\n",
      "[Parallel(n_jobs=2)]: Done  30 out of  30 | elapsed:    0.1s finished\n"
     ]
    },
    {
     "name": "stdout",
     "output_type": "stream",
     "text": [
      "Validation Set Accuracy: 67.3%\n",
      "Validation Set Accuracy: 67.3%\n"
     ]
    },
    {
     "name": "stderr",
     "output_type": "stream",
     "text": [
      "[Parallel(n_jobs=2)]: Done  30 out of  30 | elapsed:    0.1s finished\n",
      "[Parallel(n_jobs=2)]: Done  30 out of  30 | elapsed:    0.1s finished\n"
     ]
    },
    {
     "name": "stdout",
     "output_type": "stream",
     "text": [
      "Validation Set Accuracy: 67.3%\n",
      "Validation Set Accuracy: 67.3%\n"
     ]
    },
    {
     "name": "stderr",
     "output_type": "stream",
     "text": [
      "[Parallel(n_jobs=2)]: Done  30 out of  30 | elapsed:    0.1s finished\n",
      "[Parallel(n_jobs=2)]: Done  30 out of  30 | elapsed:    0.0s finished\n"
     ]
    },
    {
     "name": "stdout",
     "output_type": "stream",
     "text": [
      "Validation Set Accuracy: 67.3%\n",
      "Validation Set Accuracy: 67.3%\n"
     ]
    },
    {
     "name": "stderr",
     "output_type": "stream",
     "text": [
      "[Parallel(n_jobs=2)]: Done  30 out of  30 | elapsed:    0.1s finished\n",
      "[Parallel(n_jobs=2)]: Done  30 out of  30 | elapsed:    0.0s finished\n"
     ]
    },
    {
     "name": "stdout",
     "output_type": "stream",
     "text": [
      "Validation Set Accuracy: 67.3%\n",
      "Validation Set Accuracy: 67.3%\n"
     ]
    },
    {
     "name": "stderr",
     "output_type": "stream",
     "text": [
      "[Parallel(n_jobs=2)]: Done  30 out of  30 | elapsed:    0.1s finished\n",
      "[Parallel(n_jobs=2)]: Done  30 out of  30 | elapsed:    0.1s finished\n"
     ]
    },
    {
     "name": "stdout",
     "output_type": "stream",
     "text": [
      "Validation Set Accuracy: 67.3%\n",
      "Validation Set Accuracy: 67.3%\n"
     ]
    },
    {
     "name": "stderr",
     "output_type": "stream",
     "text": [
      "[Parallel(n_jobs=2)]: Done  30 out of  30 | elapsed:    0.1s finished\n",
      "[Parallel(n_jobs=2)]: Done  30 out of  30 | elapsed:    0.1s finished\n"
     ]
    },
    {
     "name": "stdout",
     "output_type": "stream",
     "text": [
      "Validation Set Accuracy: 67.3%\n",
      "Validation Set Accuracy: 67.3%\n"
     ]
    },
    {
     "name": "stderr",
     "output_type": "stream",
     "text": [
      "[Parallel(n_jobs=2)]: Done  30 out of  30 | elapsed:    0.1s finished\n",
      "[Parallel(n_jobs=2)]: Done  30 out of  30 | elapsed:    0.1s finished\n"
     ]
    },
    {
     "name": "stdout",
     "output_type": "stream",
     "text": [
      "Validation Set Accuracy: 67.3%\n",
      "Validation Set Accuracy: 67.3%\n"
     ]
    },
    {
     "name": "stderr",
     "output_type": "stream",
     "text": [
      "[Parallel(n_jobs=2)]: Done  30 out of  30 | elapsed:    0.1s finished\n",
      "[Parallel(n_jobs=2)]: Done  30 out of  30 | elapsed:    0.1s finished\n"
     ]
    },
    {
     "name": "stdout",
     "output_type": "stream",
     "text": [
      "Validation Set Accuracy: 67.3%\n",
      "Validation Set Accuracy: 67.3%\n"
     ]
    },
    {
     "name": "stderr",
     "output_type": "stream",
     "text": [
      "[Parallel(n_jobs=2)]: Done  30 out of  30 | elapsed:    0.1s finished\n",
      "[Parallel(n_jobs=2)]: Done  30 out of  30 | elapsed:    0.1s finished\n"
     ]
    },
    {
     "name": "stdout",
     "output_type": "stream",
     "text": [
      "Validation Set Accuracy: 67.3%\n",
      "Validation Set Accuracy: 67.3%\n"
     ]
    },
    {
     "name": "stderr",
     "output_type": "stream",
     "text": [
      "[Parallel(n_jobs=2)]: Done  30 out of  30 | elapsed:    0.1s finished\n",
      "[Parallel(n_jobs=2)]: Done  30 out of  30 | elapsed:    0.0s finished\n",
      "[Parallel(n_jobs=2)]: Done  30 out of  30 | elapsed:    0.0s finished\n"
     ]
    },
    {
     "name": "stdout",
     "output_type": "stream",
     "text": [
      "Validation Set Accuracy: 67.3%\n",
      "Validation Set Accuracy: 67.3%\n",
      "Validation Set Accuracy: 67.3%\n",
      "Validation Set Accuracy: 67.3%\n"
     ]
    },
    {
     "name": "stderr",
     "output_type": "stream",
     "text": [
      "[Parallel(n_jobs=2)]: Done  30 out of  30 | elapsed:    0.0s finished\n",
      "[Parallel(n_jobs=2)]: Done  30 out of  30 | elapsed:    0.1s finished\n"
     ]
    },
    {
     "name": "stdout",
     "output_type": "stream",
     "text": [
      "Validation Set Accuracy: 67.3%\n",
      "Validation Set Accuracy: 67.3%\n"
     ]
    },
    {
     "name": "stderr",
     "output_type": "stream",
     "text": [
      "[Parallel(n_jobs=2)]: Done  30 out of  30 | elapsed:    0.0s finished\n",
      "[Parallel(n_jobs=2)]: Done  30 out of  30 | elapsed:    0.0s finished\n"
     ]
    },
    {
     "name": "stdout",
     "output_type": "stream",
     "text": [
      "Validation Set Accuracy: 67.3%\n",
      "Validation Set Accuracy: 67.3%\n",
      "Validation Set Accuracy: 67.3%\n",
      "10 loops, best of 3: 120 ms per loop\n"
     ]
    },
    {
     "name": "stderr",
     "output_type": "stream",
     "text": [
      "[Parallel(n_jobs=2)]: Done  30 out of  30 | elapsed:    0.1s finished\n",
      "[Parallel(n_jobs=2)]: Done  30 out of  30 | elapsed:    0.0s finished\n"
     ]
    }
   ],
   "source": [
    "%%timeit \n",
    "print \"Validation Set Accuracy: {:.1%}\".format(tree.score(X_validation,y_validation))"
   ]
  },
  {
   "cell_type": "code",
   "execution_count": 5,
   "metadata": {
    "collapsed": true
   },
   "outputs": [],
   "source": [
    "from sklearn.linear_model import SGDClassifier"
   ]
  },
  {
   "cell_type": "code",
   "execution_count": 11,
   "metadata": {
    "collapsed": false
   },
   "outputs": [
    {
     "data": {
      "text/plain": [
       "0.00011964107676969092"
      ]
     },
     "execution_count": 11,
     "metadata": {},
     "output_type": "execute_result"
    }
   ],
   "source": [
    ".12/len(X_validation\n",
    "       )"
   ]
  },
  {
   "cell_type": "code",
   "execution_count": 6,
   "metadata": {
    "collapsed": false
   },
   "outputs": [
    {
     "name": "stdout",
     "output_type": "stream",
     "text": [
      "-- Epoch 1\n",
      "-- Epoch 1\n",
      "Norm: 10.19, NNZs: 500, Bias: 0.940001, T: 3555, Avg. loss: 0.212448\n",
      "Total training time: 0.01 seconds.\n",
      "Norm: 6.19, NNZs: 500, Bias: -1.093195, T: 3555, Avg. loss: 0.144225-- Epoch 2\n",
      "\n",
      "Total training time: 0.01 seconds.\n",
      "-- Epoch 2\n",
      "Norm: 11.33, NNZs: 500, Bias: -1.266264, T: 7110, Avg. loss: 0.161398Norm: 6.58, NNZs: 500, Bias: -1.161565, T: 7110, Avg. loss: 0.114501\n",
      "\n",
      "Total training time: 0.01 seconds.Total training time: 0.01 seconds.\n",
      "\n",
      "-- Epoch 3-- Epoch 3\n",
      "\n",
      "Norm: 11.86, NNZs: 500, Bias: -1.262905, T: 10665, Avg. loss: 0.137788\n",
      "Total training time: 0.02 seconds.\n",
      "-- Epoch 4\n",
      "Norm: 6.92, NNZs: 500, Bias: -1.162056, T: 10665, Avg. loss: 0.099887\n",
      "Total training time: 0.02 seconds.\n",
      "-- Epoch 4\n",
      "Norm: 12.14, NNZs: 500, Bias: -1.269053, T: 14220, Avg. loss: 0.123485\n",
      "Total training time: 0.02 seconds.\n",
      "-- Epoch 5\n",
      "Norm: 7.13, NNZs: 500, Bias: -1.162145, T: 14220, Avg. loss: 0.090836\n",
      "Total training time: 0.02 seconds.\n",
      "-- Epoch 5\n",
      "Norm: 12.30, NNZs: 500, Bias: -1.270803, T: 17775, Avg. loss: 0.113729\n",
      "Total training time: 0.03 seconds.\n",
      "Norm: 7.22, NNZs: 500, Bias: -1.163986, T: 17775, Avg. loss: 0.084585\n",
      "Total training time: 0.03 seconds.-- Epoch 1\n",
      "\n",
      "-- Epoch 1\n",
      "Norm: 2.20, NNZs: 500, Bias: -2.369005, T: 3555, Avg. loss: 0.053611\n",
      "Total training time: 0.00 seconds.\n",
      "-- Epoch 2\n",
      "Norm: 24.02, NNZs: 500, Bias: -3.378056, T: 3555, Avg. loss: 0.649411\n",
      "Total training time: 0.01 seconds.\n",
      "-- Epoch 2\n",
      "Norm: 2.32, NNZs: 500, Bias: -2.329910, T: 7110, Avg. loss: 0.042602\n",
      "Total training time: 0.01 seconds.\n",
      "-- Epoch 3\n",
      "Norm: 26.76, NNZs: 500, Bias: -1.194069, T: 7110, Avg. loss: 0.497051\n",
      "Total training time: 0.01 seconds.\n",
      "-- Epoch 3\n",
      "Norm: 2.22, NNZs: 500, Bias: -1.133346, T: 10665, Avg. loss: 0.037181\n",
      "Total training time: 0.01 seconds.\n",
      "-- Epoch 4\n",
      "Norm: 28.49, NNZs: 500, Bias: -1.181821, T: 10665, Avg. loss: 0.423642\n",
      "Total training time: 0.02 seconds.\n",
      "-- Epoch 4\n",
      "Norm: 2.20, NNZs: 500, Bias: -1.135093, T: 14220, Avg. loss: 0.033777\n",
      "Total training time: 0.02 seconds.\n",
      "-- Epoch 5\n",
      "Norm: 29.59, NNZs: 500, Bias: -1.171156, T: 14220, Avg. loss: 0.378990\n",
      "Total training time: 0.02 seconds.\n",
      "-- Epoch 5\n",
      "Norm: 2.22, NNZs: 500, Bias: -1.136069, T: 17775, Avg. loss: 0.031443\n",
      "Total training time: 0.02 seconds.\n",
      "-- Epoch 1\n",
      "Norm: 30.28, NNZs: 500, Bias: -1.169465, T: 17775, Avg. loss: 0.348115\n",
      "Total training time: 0.03 seconds.\n",
      "-- Epoch 1\n",
      "Norm: 9.28, NNZs: 500, Bias: -1.132263, T: 3555, Avg. loss: 0.346456\n",
      "Total training time: 0.01 seconds.\n",
      "-- Epoch 2\n",
      "Norm: 51.07, NNZs: 500, Bias: -0.931000, T: 3555, Avg. loss: 1.355766Norm: 10.40, NNZs: 500, Bias: 0.125554, T: 7110, Avg. loss: 0.275277\n",
      "Total training time: 0.01 seconds.\n",
      "\n",
      "Total training time: 0.01 seconds.-- Epoch 2\n",
      "\n",
      "-- Epoch 3\n",
      "Norm: 10.82, NNZs: 500, Bias: -1.106763, T: 10665, Avg. loss: 0.239959\n",
      "Total training time: 0.01 seconds.\n",
      "-- Epoch 4\n",
      "Norm: 54.65, NNZs: 500, Bias: -0.914215, T: 7110, Avg. loss: 0.948810\n",
      "Total training time: 0.01 seconds.\n",
      "-- Epoch 3\n",
      "Norm: 11.04, NNZs: 500, Bias: -1.104480, T: 14220, Avg. loss: 0.218041\n",
      "Total training time: 0.02 seconds.\n",
      "-- Epoch 5\n",
      "Norm: 55.57, NNZs: 500, Bias: -1.758738, T: 10665, Avg. loss: 0.772730\n",
      "Total training time: 0.02 seconds.\n",
      "-- Epoch 4\n",
      "Norm: 11.15, NNZs: 500, Bias: -1.105392, T: 17775, Avg. loss: 0.202953\n",
      "Total training time: 0.02 seconds.\n",
      "-- Epoch 1\n",
      "Norm: 56.62, NNZs: 500, Bias: -0.234453, T: 14220, Avg. loss: 0.670848\n",
      "Total training time: 0.02 seconds.\n",
      "-- Epoch 5\n",
      "Norm: 11.12, NNZs: 500, Bias: -1.375870, T: 3555, Avg. loss: 0.237830\n",
      "Total training time: 0.00 seconds.\n",
      "-- Epoch 2\n",
      "Norm: 12.32, NNZs: 500, Bias: -1.377138, T: 7110, Avg. loss: 0.184216\n",
      "Norm: 57.26, NNZs: 500, Bias: 0.181366, T: 17775, Avg. loss: 0.601668\n",
      "Total training time: 0.03 seconds.Total training time: 0.01 seconds.\n",
      "\n",
      "-- Epoch 1-- Epoch 3\n",
      "\n",
      "Norm: 8.81, NNZs: 500, Bias: -1.400114, T: 3555, Avg. loss: 0.115942\n",
      "Total training time: 0.00 seconds.\n",
      "Norm: 12.90, NNZs: 500, Bias: -1.400794, T: 10665, Avg. loss: 0.158105-- Epoch 2\n",
      "\n",
      "Total training time: 0.02 seconds.\n",
      "-- Epoch 4\n",
      "Norm: 9.64, NNZs: 500, Bias: -1.379834, T: 7110, Avg. loss: 0.089932\n",
      "Total training time: 0.01 seconds.\n",
      "-- Epoch 3\n",
      "Norm: 13.13, NNZs: 500, Bias: -1.405212, T: 14220, Avg. loss: 0.142133\n",
      "Total training time: 0.02 seconds.\n",
      "-- Epoch 5\n",
      "Norm: 10.01, NNZs: 500, Bias: -1.372142, T: 10665, Avg. loss: 0.077123\n",
      "Total training time: 0.01 seconds.\n",
      "-- Epoch 4\n",
      "Norm: 13.33, NNZs: 500, Bias: -1.410008, T: 17775, Avg. loss: 0.131124\n",
      "Total training time: 0.02 seconds.\n",
      "-- Epoch 1Norm: 10.25, NNZs: 500, Bias: -1.368043, T: 14220, Avg. loss: 0.069160\n",
      "\n",
      "Total training time: 0.02 seconds.\n",
      "-- Epoch 5\n",
      "Norm: 4.73, NNZs: 500, Bias: -1.105682, T: 3555, Avg. loss: 0.143339\n",
      "Norm: 10.39, NNZs: 500, Bias: -1.365358, T: 17775, Avg. loss: 0.063710\n",
      "Total training time: 0.02 seconds.\n",
      "Total training time: 0.01 seconds.-- Epoch 1\n",
      "\n",
      "-- Epoch 2\n",
      "Norm: 8.83, NNZs: 500, Bias: -1.396695, T: 3555, Avg. loss: 0.163033\n",
      "Total training time: 0.00 seconds.\n",
      "-- Epoch 2\n",
      "Norm: 5.19, NNZs: 500, Bias: -1.123286, T: 7110, Avg. loss: 0.110604\n",
      "Total training time: 0.01 seconds.\n",
      "-- Epoch 3\n",
      "Norm: 10.16, NNZs: 500, Bias: -1.433497, T: 7110, Avg. loss: 0.124968\n",
      "Total training time: 0.01 seconds.\n",
      "-- Epoch 3\n",
      "Norm: 5.37, NNZs: 500, Bias: -1.114309, T: 10665, Avg. loss: 0.095209\n",
      "Total training time: 0.02 seconds.\n",
      "-- Epoch 4\n",
      "Norm: 10.69, NNZs: 500, Bias: -1.430633, T: 10665, Avg. loss: 0.106539\n",
      "Total training time: 0.01 seconds.\n",
      "-- Epoch 4\n",
      "Norm: 5.46, NNZs: 500, Bias: -1.110150, T: 14220, Avg. loss: 0.085902\n",
      "Total training time: 0.02 seconds.\n",
      "Norm: 10.92, NNZs: 500, Bias: -0.781877, T: 14220, Avg. loss: 0.095356-- Epoch 5\n",
      "\n",
      "Total training time: 0.02 seconds.\n",
      "-- Epoch 5\n",
      "Norm: 5.57, NNZs: 500, Bias: -1.110002, T: 17775, Avg. loss: 0.079592\n",
      "Norm: 11.08, NNZs: 500, Bias: -1.444042, T: 17775, Avg. loss: 0.087718Total training time: 0.02 seconds.\n",
      "\n",
      "Total training time: 0.02 seconds.-- Epoch 1\n",
      "\n",
      "-- Epoch 1\n",
      "Norm: 6.31, NNZs: 500, Bias: -1.153942, T: 3555, Avg. loss: 0.200888\n",
      "Total training time: 0.00 seconds.\n",
      "-- Epoch 2\n",
      "Norm: 10.13, NNZs: 500, Bias: -1.503493, T: 3555, Avg. loss: 0.150875\n",
      "Total training time: 0.01 seconds.\n",
      "-- Epoch 2\n",
      "Norm: 7.06, NNZs: 500, Bias: -1.134529, T: 7110, Avg. loss: 0.158423\n",
      "Total training time: 0.01 seconds.\n",
      "-- Epoch 3\n",
      "Norm: 10.96, NNZs: 500, Bias: -1.517409, T: 7110, Avg. loss: 0.118687\n",
      "Total training time: 0.01 seconds.\n",
      "-- Epoch 3\n",
      "Norm: 7.26, NNZs: 500, Bias: -1.133750, T: 10665, Avg. loss: 0.137422\n",
      "Total training time: 0.01 seconds.\n",
      "-- Epoch 4\n",
      "Norm: 11.28, NNZs: 500, Bias: -1.522497, T: 10665, Avg. loss: 0.102275\n",
      "Total training time: 0.01 seconds.\n",
      "-- Epoch 4\n",
      "Norm: 7.39, NNZs: 500, Bias: -1.139751, T: 14220, Avg. loss: 0.124684\n",
      "Total training time: 0.02 seconds.\n",
      "-- Epoch 5\n",
      "Norm: 11.42, NNZs: 500, Bias: -1.532159, T: 14220, Avg. loss: 0.092140\n",
      "Total training time: 0.02 seconds.\n",
      "-- Epoch 5\n",
      "Norm: 7.44, NNZs: 500, Bias: -1.140421, T: 17775, Avg. loss: 0.115974\n",
      "Total training time: 0.02 seconds.\n",
      "-- Epoch 1Norm: 11.46, NNZs: 500, Bias: -1.531379, T: 17775, Avg. loss: 0.085226\n",
      "\n",
      "Total training time: 0.02 seconds.\n",
      "-- Epoch 1\n",
      "Norm: 4.45, NNZs: 500, Bias: -1.226946, T: 3555, Avg. loss: 0.097016\n",
      "Total training time: 0.00 seconds.\n",
      "-- Epoch 2\n",
      "Norm: 4.40, NNZs: 500, Bias: -1.541613, T: 3555, Avg. loss: 0.127397\n",
      "Total training time: 0.01 seconds.\n",
      "-- Epoch 2\n",
      "Norm: 4.80, NNZs: 500, Bias: -1.211359, T: 7110, Avg. loss: 0.076987\n",
      "Total training time: 0.01 seconds.\n",
      "-- Epoch 3\n",
      "Norm: 4.60, NNZs: 500, Bias: -1.519451, T: 7110, Avg. loss: 0.101285\n",
      "Total training time: 0.01 seconds.\n",
      "-- Epoch 3\n",
      "Norm: 4.91, NNZs: 500, Bias: -1.205403, T: 10665, Avg. loss: 0.066912\n",
      "Total training time: 0.01 seconds.\n",
      "-- Epoch 4\n",
      "Norm: 4.75, NNZs: 500, Bias: -1.511246, T: 10665, Avg. loss: 0.088067\n",
      "Total training time: 0.01 seconds.\n",
      "-- Epoch 4\n",
      "Norm: 4.99, NNZs: 500, Bias: -1.202110, T: 14220, Avg. loss: 0.060744\n",
      "Total training time: 0.02 seconds.\n",
      "-- Epoch 5\n",
      "Norm: 4.78, NNZs: 500, Bias: -1.506874, T: 14220, Avg. loss: 0.080007\n",
      "Total training time: 0.02 seconds.\n",
      "-- Epoch 5\n",
      "Norm: 4.97, NNZs: 500, Bias: -1.200108, T: 17775, Avg. loss: 0.056560\n",
      "Total training time: 0.02 seconds.\n",
      "-- Epoch 1\n",
      "Norm: 4.78, NNZs: 500, Bias: -1.503954, T: 17775, Avg. loss: 0.074512\n",
      "Total training time: 0.02 seconds.\n",
      "-- Epoch 1Norm: 7.66, NNZs: 500, Bias: -1.256258, T: 3555, Avg. loss: 0.238021\n",
      "\n",
      "Total training time: 0.00 seconds.\n",
      "-- Epoch 2\n",
      "Norm: 6.95, NNZs: 500, Bias: -1.190914, T: 3555, Avg. loss: 0.115715\n",
      "Total training time: 0.00 seconds.\n",
      "Norm: 8.44, NNZs: 500, Bias: -1.262858, T: 7110, Avg. loss: 0.185613-- Epoch 2\n",
      "\n",
      "Total training time: 0.01 seconds.\n",
      "-- Epoch 3\n",
      "Norm: 7.70, NNZs: 500, Bias: -1.173527, T: 7110, Avg. loss: 0.088939\n",
      "Total training time: 0.01 seconds.Norm: 8.75, NNZs: 500, Bias: -1.273362, T: 10665, Avg. loss: 0.160280\n",
      "\n",
      "-- Epoch 3Total training time: 0.01 seconds.\n",
      "\n",
      "-- Epoch 4\n",
      "Norm: 8.01, NNZs: 500, Bias: -1.166837, T: 10665, Avg. loss: 0.076252\n",
      "Total training time: 0.01 seconds.\n",
      "-- Epoch 4\n",
      "Norm: 8.96, NNZs: 500, Bias: -1.272856, T: 14220, Avg. loss: 0.144791\n",
      "Total training time: 0.02 seconds.\n",
      "-- Epoch 5\n",
      "Norm: 8.17, NNZs: 500, Bias: -1.162775, T: 14220, Avg. loss: 0.068591\n",
      "Total training time: 0.02 seconds.\n",
      "-- Epoch 5\n",
      "Norm: 9.12, NNZs: 500, Bias: -1.269113, T: 17775, Avg. loss: 0.134224\n",
      "Total training time: 0.02 seconds.\n",
      "-- Epoch 1\n",
      "Norm: 8.25, NNZs: 500, Bias: -1.161258, T: 17775, Avg. loss: 0.063375Norm: 4.84, NNZs: 500, Bias: -1.303035, T: 3555, Avg. loss: 0.051866\n",
      "\n",
      "Total training time: 0.00 seconds.Total training time: 0.02 seconds.\n",
      "\n",
      "-- Epoch 2-- Epoch 1\n",
      "\n",
      "Norm: 0.51, NNZs: 500, Bias: -2.094387, T: 3555, Avg. loss: 0.011150\n",
      "Norm: 4.90, NNZs: 500, Bias: -1.294298, T: 7110, Avg. loss: 0.039687Total training time: 0.00 seconds.\n",
      "\n",
      "Total training time: 0.01 seconds.-- Epoch 2\n",
      "\n",
      "-- Epoch 3\n",
      "Norm: 0.50, NNZs: 500, Bias: -2.092325, T: 7110, Avg. loss: 0.008797\n",
      "Total training time: 0.01 seconds.\n",
      "-- Epoch 3\n",
      "Norm: 5.26, NNZs: 500, Bias: -1.290998, T: 10665, Avg. loss: 0.033991\n",
      "Total training time: 0.01 seconds.\n",
      "-- Epoch 4\n",
      "Norm: 0.48, NNZs: 500, Bias: -1.105487, T: 10665, Avg. loss: 0.007619\n",
      "Total training time: 0.01 seconds.\n",
      "-- Epoch 4\n",
      "Norm: 5.45, NNZs: 500, Bias: -1.289304, T: 14220, Avg. loss: 0.030513\n",
      "Total training time: 0.02 seconds.\n",
      "-- Epoch 5\n",
      "Norm: 0.45, NNZs: 500, Bias: -1.105160, T: 14220, Avg. loss: 0.006866\n",
      "Total training time: 0.02 seconds.\n",
      "-- Epoch 5\n",
      "Norm: 5.36, NNZs: 500, Bias: -1.288294, T: 17775, Avg. loss: 0.028124\n",
      "Total training time: 0.02 seconds.\n",
      "-- Epoch 1\n",
      "Norm: 0.41, NNZs: 500, Bias: -1.104931, T: 17775, Avg. loss: 0.006375\n",
      "Total training time: 0.02 seconds.\n",
      "-- Epoch 1\n",
      "Norm: 11.56, NNZs: 500, Bias: -3.656141, T: 3555, Avg. loss: 0.289156\n",
      "Total training time: 0.00 seconds.\n",
      "-- Epoch 2\n",
      "Norm: 3.54, NNZs: 500, Bias: -2.878002, T: 3555, Avg. loss: 0.052295\n",
      "Total training time: 0.00 seconds.\n",
      "-- Epoch 2\n",
      "Norm: 13.28, NNZs: 500, Bias: -2.713568, T: 7110, Avg. loss: 0.221800\n",
      "Total training time: 0.01 seconds.\n",
      "-- Epoch 3\n",
      "Norm: 3.80, NNZs: 500, Bias: -1.185757, T: 7110, Avg. loss: 0.041396\n",
      "Total training time: 0.01 seconds.\n",
      "-- Epoch 3\n",
      "Norm: 13.95, NNZs: 500, Bias: -1.489865, T: 10665, Avg. loss: 0.189733\n",
      "Total training time: 0.01 seconds.\n",
      "-- Epoch 4\n",
      "Norm: 3.92, NNZs: 500, Bias: -1.182720, T: 10665, Avg. loss: 0.035770\n",
      "Total training time: 0.01 seconds.\n",
      "-- Epoch 4\n",
      "Norm: 14.29, NNZs: 500, Bias: -1.491307, T: 14220, Avg. loss: 0.170211\n",
      "Total training time: 0.02 seconds.Norm: 3.96, NNZs: 500, Bias: -1.184443, T: 14220, Avg. loss: 0.032406\n",
      "-- Epoch 5\n",
      "\n",
      "Total training time: 0.02 seconds.\n",
      "-- Epoch 5\n",
      "Norm: 14.32, NNZs: 500, Bias: -2.025273, T: 17775, Avg. loss: 0.157104\n",
      "Total training time: 0.02 seconds.\n",
      "Norm: 3.98, NNZs: 500, Bias: -1.186208, T: 17775, Avg. loss: 0.030127-- Epoch 1\n",
      "\n",
      "Total training time: 0.02 seconds.\n",
      "-- Epoch 1\n",
      "Norm: 5.28, NNZs: 500, Bias: -1.315430, T: 3555, Avg. loss: 0.066342\n",
      "Total training time: 0.01 seconds.\n",
      "-- Epoch 2\n",
      "Norm: 8.34, NNZs: 500, Bias: 1.114163, T: 3555, Avg. loss: 0.237044\n",
      "Total training time: 0.00 seconds.\n",
      "-- Epoch 2\n",
      "Norm: 5.96, NNZs: 500, Bias: -1.304707, T: 7110, Avg. loss: 0.051327\n",
      "Total training time: 0.01 seconds.\n",
      "-- Epoch 3\n",
      "Norm: 9.33, NNZs: 500, Bias: -1.094648, T: 7110, Avg. loss: 0.185887\n",
      "Total training time: 0.01 seconds.\n",
      "-- Epoch 3\n",
      "Norm: 6.22, NNZs: 500, Bias: -1.300604, T: 10665, Avg. loss: 0.043965\n",
      "Total training time: 0.01 seconds.\n",
      "-- Epoch 4Norm: 9.75, NNZs: 500, Bias: -1.098320, T: 10665, Avg. loss: 0.160000\n",
      "\n",
      "Total training time: 0.01 seconds.\n",
      "-- Epoch 4\n",
      "Norm: 6.35, NNZs: 500, Bias: -1.298514, T: 14220, Avg. loss: 0.039438\n",
      "Total training time: 0.02 seconds.\n",
      "-- Epoch 5\n",
      "Norm: 10.00, NNZs: 500, Bias: -1.103006, T: 14220, Avg. loss: 0.144625\n",
      "Total training time: 0.02 seconds.\n",
      "-- Epoch 5\n",
      "Norm: 6.44, NNZs: 500, Bias: -1.297187, T: 17775, Avg. loss: 0.036378\n",
      "Total training time: 0.02 seconds.\n",
      "-- Epoch 1\n",
      "Norm: 10.08, NNZs: 500, Bias: -1.103246, T: 17775, Avg. loss: 0.134161\n",
      "Total training time: 0.02 seconds.Norm: 5.31, NNZs: 500, Bias: -1.725832, T: 3555, Avg. loss: 0.095777\n",
      "\n",
      "Total training time: 0.00 seconds.\n",
      "-- Epoch 2\n",
      "Norm: 5.78, NNZs: 500, Bias: -1.709745, T: 7110, Avg. loss: 0.075814\n",
      "Total training time: 0.01 seconds.\n",
      "-- Epoch 3\n",
      "Norm: 5.98, NNZs: 500, Bias: -1.703650, T: 10665, Avg. loss: 0.065667\n",
      "Total training time: 0.01 seconds.\n",
      "-- Epoch 4\n",
      "Norm: 6.05, NNZs: 500, Bias: -1.033379, T: 14220, Avg. loss: 0.059532\n",
      "Total training time: 0.02 seconds.\n",
      "-- Epoch 5\n",
      "Norm: 5.99, NNZs: 500, Bias: -1.599635, T: 17775, Avg. loss: 0.055400\n",
      "Total training time: 0.02 seconds.\n",
      "Training Set Accuracy: 36.1%\n",
      "Testing Set Accuracy: 36.9%\n",
      "Validation Set Accuracy: 1.2%\n"
     ]
    },
    {
     "name": "stderr",
     "output_type": "stream",
     "text": [
      "[Parallel(n_jobs=2)]: Done  23 out of  23 | elapsed:    0.3s finished\n"
     ]
    }
   ],
   "source": [
    "sgd = SGDClassifier(n_jobs=2, verbose=2, penalty='l2' )\n",
    "sgd.fit(X_train,y_train)\n",
    "print \"Training Set Accuracy: {:.1%}\".format(sgd.score(X_train,y_train))\n",
    "print \"Testing Set Accuracy: {:.1%}\".format(sgd.score(X_test,y_test))\n",
    "print \"Validation Set Accuracy: {:.1%}\".format(sgd.score(X_validation,y_validation))"
   ]
  },
  {
   "cell_type": "code",
   "execution_count": null,
   "metadata": {
    "collapsed": true
   },
   "outputs": [],
   "source": [
    "from sklearn.model_selection import GridSearchCV"
   ]
  },
  {
   "cell_type": "code",
   "execution_count": null,
   "metadata": {
    "collapsed": false
   },
   "outputs": [],
   "source": [
    "def scoring_mlp(estimator, X_test, y_test):\n",
    "    "
   ]
  },
  {
   "cell_type": "code",
   "execution_count": null,
   "metadata": {
    "collapsed": true
   },
   "outputs": [],
   "source": [
    "parameters = {'hidden_layer_sizes':((10,),(10,100),(100,10),(100,)),\n",
    "              'solver':('sgd', 'adam'), \n",
    "              'activation':('logistic', 'tanh', 'relu')}\n",
    "estimator = nn.MLPClassifier(verbose =1,\n",
    "                        max_iter=2000,  \n",
    "                        tol=.0001)"
   ]
  },
  {
   "cell_type": "code",
   "execution_count": null,
   "metadata": {
    "collapsed": false
   },
   "outputs": [],
   "source": [
    "gs = GridSearchCV(estimator, parameters, cv =2)"
   ]
  },
  {
   "cell_type": "code",
   "execution_count": null,
   "metadata": {
    "collapsed": false
   },
   "outputs": [],
   "source": [
    "gs.fit(X_train, y_train)"
   ]
  },
  {
   "cell_type": "code",
   "execution_count": null,
   "metadata": {
    "collapsed": false
   },
   "outputs": [],
   "source": [
    "gs.best_params_\n"
   ]
  },
  {
   "cell_type": "code",
   "execution_count": null,
   "metadata": {
    "collapsed": true
   },
   "outputs": [],
   "source": [
    "\n"
   ]
  },
  {
   "cell_type": "code",
   "execution_count": null,
   "metadata": {
    "collapsed": true
   },
   "outputs": [],
   "source": []
  }
 ],
 "metadata": {
  "kernelspec": {
   "display_name": "Python [conda root]",
   "language": "python",
   "name": "conda-root-py"
  },
  "language_info": {
   "codemirror_mode": {
    "name": "ipython",
    "version": 2
   },
   "file_extension": ".py",
   "mimetype": "text/x-python",
   "name": "python",
   "nbconvert_exporter": "python",
   "pygments_lexer": "ipython2",
   "version": "2.7.13"
  },
  "widgets": {
   "state": {
    "d2aba89e1842481a8e2c557d24141f31": {
     "views": [
      {
       "cell_index": 4
      }
     ]
    }
   },
   "version": "1.2.0"
  }
 },
 "nbformat": 4,
 "nbformat_minor": 2
}
