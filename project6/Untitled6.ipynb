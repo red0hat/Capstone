{
 "cells": [
  {
   "cell_type": "code",
   "execution_count": 33,
   "metadata": {
    "collapsed": false
   },
   "outputs": [],
   "source": [
    "import lib.database_module as db\n",
    "import lib.encoding_module as en\n",
    "from sklearn.model_selection import train_test_split\n",
    "import tqdm\n",
    "from sklearn.naive_bayes import MultinomialNB\n",
    "from sklearn.feature_extraction.text import TfidfVectorizer"
   ]
  },
  {
   "cell_type": "code",
   "execution_count": 34,
   "metadata": {
    "collapsed": true
   },
   "outputs": [],
   "source": [
    "mnb = MultinomialNB()\n",
    "tf = TfidfVectorizer(stop_words = 'english',        \n",
    "                                 use_idf=True,\n",
    "                                 smooth_idf=True,\n",
    "                                 #strip_accents = 'ascii', \n",
    "                                 max_df = 0.5,\n",
    "                                 norm = 'l1')\n"
   ]
  },
  {
   "cell_type": "markdown",
   "metadata": {},
   "source": [
    "    make tfidf from cleaned pages.\n",
    "    do mnb on full tfidf.\n",
    "    do train,test and validation tests.\n",
    "\n"
   ]
  },
  {
   "cell_type": "code",
   "execution_count": null,
   "metadata": {
    "collapsed": true
   },
   "outputs": [],
   "source": [
    "category_text = db.fetch_all_category_pages('local')\n",
    "\n",
    "train_text, test_text = train_test_split(category_text,test_size = .15)\n",
    "\n",
    "y_train = []\n",
    "X_train = []\n",
    "y_test = []\n",
    "X_test = []\n",
    "\n",
    "for y, text in tqdm.tqdm_notebook(train_text):\n",
    "    y_train.append(y)\n",
    "    X_train.append(en.clean_page_text(text))\n",
    "for y, text in tqdm.tqdm_notebook(test_text):\n",
    "    y_test.append(y)\n",
    "    X_test.append(en.clean_page_text(text))"
   ]
  },
  {
   "cell_type": "code",
   "execution_count": 27,
   "metadata": {
    "collapsed": true
   },
   "outputs": [
    {
     "data": {
      "text/plain": [
       "'global health initiatives  ghis  are humanitarian initiatives that raise and disburse additional funds for infectious diseases  such as aids  tuberculosis and malaria for immunization and for strengthening health systems in developing countries  examples of ghis are the president   s emergency plan for aids relief  pepfar   the global fund to fight aids  tuberculosis and malaria  global fund   and the world banks multi country aids programme  map   all of which focus on hiv aids  the gavi  formerly the gavi alliance  focuses on immunization  particularly with respect to child survival   ghi functions in terms of their institutional structure  ghis have little in common with each other  in terms of their function     specifically their ability to raise and disburse funds  provide resources and coordinate and or implement disease control in multiple countries     ghis share some common ground  even if the mechanisms through which each of these functions is performed are different  pepfar   an initiative established in   by the bush administration   and pepfar ii  pepfar   s successor in   under the obama administration  are bilateral agreements between the united states and a recipient of its development aid for hiv aids     typically an international non government organisation ingo or a recipient country   s government  the global fund  established in    and the gavi alliance  launched in    are public private partnerships that raise and disburse funds to treat aids  tuberculosis and malaria  and for immunization and vaccines  the world bank is an international financial institution  it is the largest funder of hiv aids within the united nations system and has a portfolio of hiv aids programmes dating back to    in    the bank launched the first phase of its response to hiv aids in sub saharan africa     the map  this came to an end in   when a second phase     agenda for action         came into effect  ghi funding tracking funding from ghis is not easy  however  it is possible to determine the amounts of funding ghis commit and disburse from sources such as the oecd crs online database  as well as data provided by individual ghis  figure 1   since    the world bank has committed approximately us  bn in loans and credits for programs  and has disbursed us  bn  of this total  the banks map has committed us  bn since    through bilateral contributions to hiv aids and tuberculosis programmes and donations to the global fund  pepfar has donated approximately us   6bn since    in july    the u s senate re authorised a further us   bn over five years for pepfar ii  of which us  bn has been requested for fy    during the period      donors have pledged us   1bn to the global fund  of which us   8bn has been paid by donors to the fund  gavi has approved us  bn for the period     impact of ghis on country health systems there is much discussion about the extent to which the volume of these additional funds creates multiple effects that impact     positively and negatively     on health outcomes for specific diseases and also on health systems themselves  assessing the impact of ghis on specific diseases and health systems is also notoriously difficult  not least because of the problem of attributing particular effects to individual ghis  a common response in evaluations of ghis  therefore  is to acknowledge the inherent limitations of establishing causal chains in what is a highly complex public health environment  and to base conclusions on adequacy statements resulting from trends that demonstrate substantial growth in process and impact indicators  however  it is with this very approach towards evaluating global health initiatives that the social determinants of a disease are simply overlooked  as implementers and evaluators are not willing to tackle the complexity of a disease within the larger social  political  cultural  and environmental system  even if an effective evaluation of the impacts of the ghi is carried out  perhaps showing a decrease in prevalence of the disease  we can not truly understand the long term impacts of the gih or expect the positive results to last if we have not addressed the root social  political  or environmental causes of the disease  in this respect  ghi should be less concerned about eradicating specific diseases  instead focusing first on basic living conditions  such as sanitation and access to nutritious food  that are essential in delivering a sustainable heath program  research on the effects of ghis a small number of institutions have shaped  and continue to shape  research on ghis  in    researchers at abt associates devised an influential framework for understanding the system wide effects of the global fund which has informed much subsequent research  including their own studies of system wide effects of the global fund in benin  ethiopia  georgia and malawi   often referred to as the swef studies  abt continues to support ongoing research on the effects of ghis in multiple countries  the washington based center for global development has also been very active in its analysis of ghis  particularly pepfar financing  the centers hiv aids monitor is essential reading for researchers of ghis  with hubs in london and dublin  the global health initiatives network  ghin  has been coordinating and supporting research in   countries on the effects of ghis on existing health systems  knowledge of the effects of ghis on specific diseases and on health systems comes from multiple sources longitudinal studies enable researchers to establish baseline data and then track and compare ghi effects on disease control or country health systems over time  in addition to abt associates swef studies  additional early examples of this type of analysis were three year  multi country studies of the global fund in mozambique  tanzania  uganda and zambia  in    research findings were published from tracking studies in kyrgyzstan  peru and ukraine that sought to identify the health effects of the global fund at national and sub national levels  in contrast to longitudinal studies  multi country analyses of ghis can provide a    snapshot    of ghi effects but are often constrained by    aggressive timelines     the maximising positive synergies academic consortium  for example  reported in   on the effects of the global fund and pepfar on disease control and health systems  drawing on data from   countries  most ghi evaluations     both internally and  ly commissioned     rely on this type of short term analysis and  inevitably  there is often a trade off between depth and breadth of reporting  synthesis of data from multiple sources is an invaluable resource for making sense of the effects of ghis  early synthesis studies include a   synthesis of findings on the effects of the global fund in four countries by researchers at the london school of hygiene and tropical medicine  lshtm   a   study by mckinsey   company and an assessment of the comparative advantages of the global fund and world bank aids programs  two wide ranging studies were published in    a study of interactions between ghis and country health systems commissioned by the world health organisation and a study by researchers from lshtm and the royal college of surgeons in ireland  the latter study   the effects of global health initiatives on country health systems  a review of the evidence from hiv aids control     reviewed the literature on the effects of the global fund  the world bank map and pepfar on country health systems with respect to  1  national policy 2  coordination and planning 3  stakeholder involvement 4  disbursement  absorptive capacity and management 5  monitoring   evaluation and 6  human resources  table 2   evaluations of ghis each of the four ghis summarised has been evaluated at least once since   and all four produce their own annual reports  world bank map a comprehensive study of map programs published in   reviewed whether map was implemented as designed  but did not evaluate map or assess its impact  in addition  there have been two evaluations that provide important additional insight into the effectiveness of the banks hiv aids programmes  though not specifically map focused   in    the bank conducted an internal evaluation   committing to results  improving the effectiveness of hiv aids assistance   which found that national aids strategies were not always prioritised or costed  supervision  and monitoring and evaluation  m e   were weak civil society had not been engaged political commitment and capacity had been overestimated  and mechanisms for political mobilisation were weak and bank research and analysis  whilst perceived to be useful  was not reaching policy makers in africa  in    a hard hitting evaluation of the bank   s health  nutrition and population support     improving effectiveness of outcomes for the poor in health  nutrition and population     found that a third of the bank   s hnp lending had not performed well  and that while the performance of the bank   s international finance corporation investments had improved  accountability was weak  global fund a five year  comprehensive evaluation of the global fund published a synthesis report in   of findings from three study areas  the fund   s technical evaluation research group  terg  five year evaluation  5ye  of the global fund drew on data from   countries to evaluate the fund   s organisational effectiveness and efficiency  partnership environment and impact on aids  tb and malaria  the evaluation highlighted the possible decline in hiv incidence rate in some countries  and rapid scale up of funding for hiv aids  access and coverage  but also identified major gaps in support for national health information systems  and poor drug availability  gavi alliance in    an evaluation of gavi   s vaccine and immunization support   evaluation of the gavi phase 1 performance   reported increased coverage of hepb3  hib3 and dtp3 and increased coverage in rural areas but also a lack of cost data disaggregated by vaccine that prevented gavi from accurately evaluating the cost effectiveness of its programs and vaccines  and an    unrealistic    reliance by gavi on the market to reduce the cost of vaccines  the same year  a study of the financial sustainability of gavi vaccine support   introducing new vaccines in the poorest countries  what did we learn from the gavi experience with   found that although gavi funding equated to  5 per infant in developing countries per year for the period      resource need was accelerating faster than growth in financing  findings from two evaluations of gavi   s support for health systems strengthening  hss  were published in    an   evaluation by hlsp found insufficient technical support provided to countries applying for gavi grants  an under performing independent review committee  irc   and weaknesses in gavi   s monitoring of grant activities  the study also found that countries were using gavi grants for    downstream    short term hss fixes rather than    upstream    and long term structural reform  a study by john snow  inc praised the multi year  flexible and country driven characteristics of gavi hss grant funding and encouraged gavi to continue this support  but also found weak m e of grant activity  low civil society involvement in the hss proposal development process  unclear proposal writing guidelines  and over reliance by countries on established development partners for assistance in implementing health system reform  pepfar a quantitative study by stanford university in       the presidents emergency plan for aids relief in africa  an evaluation of outcomes     calculated a   5  reduction in the death rate in pepfar   s   focus countries  equating to   million lives saved at a cost of    per death averted  in    an evaluation of pepfar by the institute of medicine found that pepfar had made significant progress in reaching its targets for prevention  treatment and care but also reported that budget allocations limit the country teams ability to harmonize pepfars activities with those of the partner government and other donors  and pepfars abc  abstinence  be faithful  and correct and consistent condom use  priorities fragment the natural continuum of needs and services  often in ways that do not correspond with global standards        gavi alliance global fund to fight hiv aids the united states presidents emergency plan for aids relief the world banks hiv aids financing programs global hiv aids initiatives network '"
      ]
     },
     "execution_count": 27,
     "metadata": {},
     "output_type": "execute_result"
    }
   ],
   "source": [
    "X_train[4]"
   ]
  },
  {
   "cell_type": "code",
   "execution_count": 36,
   "metadata": {
    "collapsed": false
   },
   "outputs": [],
   "source": [
    "\n",
    "X_tf_train = tf.fit_transform(X_train)\n",
    "X_tf_test = tf.transform(X_test)"
   ]
  },
  {
   "cell_type": "code",
   "execution_count": 37,
   "metadata": {
    "collapsed": false
   },
   "outputs": [
    {
     "data": {
      "text/plain": [
       "MultinomialNB(alpha=1.0, class_prior=None, fit_prior=True)"
      ]
     },
     "execution_count": 37,
     "metadata": {},
     "output_type": "execute_result"
    }
   ],
   "source": [
    "mnb.fit(X_tf_train,y_train)"
   ]
  },
  {
   "cell_type": "code",
   "execution_count": 38,
   "metadata": {
    "collapsed": false
   },
   "outputs": [
    {
     "data": {
      "text/plain": [
       "0.34177215189873417"
      ]
     },
     "execution_count": 38,
     "metadata": {},
     "output_type": "execute_result"
    }
   ],
   "source": [
    "mnb.score(X_tf_train,y_train)"
   ]
  },
  {
   "cell_type": "code",
   "execution_count": 39,
   "metadata": {
    "collapsed": false
   },
   "outputs": [
    {
     "data": {
      "text/plain": [
       "0.375"
      ]
     },
     "execution_count": 39,
     "metadata": {},
     "output_type": "execute_result"
    }
   ],
   "source": [
    "mnb.score(X_tf_test,y_test)"
   ]
  },
  {
   "cell_type": "code",
   "execution_count": 40,
   "metadata": {
    "collapsed": true
   },
   "outputs": [],
   "source": [
    "test_dict = {1:'one', 'two':2}"
   ]
  },
  {
   "cell_type": "code",
   "execution_count": 46,
   "metadata": {
    "collapsed": false
   },
   "outputs": [
    {
     "name": "stdout",
     "output_type": "stream",
     "text": [
      "True\n"
     ]
    }
   ],
   "source": [
    "    if test_dict.get(1,False):\n",
    "    print True"
   ]
  },
  {
   "cell_type": "code",
   "execution_count": null,
   "metadata": {
    "collapsed": true
   },
   "outputs": [],
   "source": []
  }
 ],
 "metadata": {
  "kernelspec": {
   "display_name": "Python [conda root]",
   "language": "python",
   "name": "conda-root-py"
  },
  "language_info": {
   "codemirror_mode": {
    "name": "ipython",
    "version": 2
   },
   "file_extension": ".py",
   "mimetype": "text/x-python",
   "name": "python",
   "nbconvert_exporter": "python",
   "pygments_lexer": "ipython2",
   "version": "2.7.13"
  },
  "widgets": {
   "state": {
    "c31dc7a319a042cf9ec7993b01ac97a9": {
     "views": [
      {
       "cell_index": 4
      }
     ]
    },
    "f8884180fe944caba8bc5a8eb043bf3a": {
     "views": [
      {
       "cell_index": 3
      }
     ]
    }
   },
   "version": "1.2.0"
  }
 },
 "nbformat": 4,
 "nbformat_minor": 2
}
