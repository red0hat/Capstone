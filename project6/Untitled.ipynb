{
 "cells": [
  {
   "cell_type": "code",
   "execution_count": 9,
   "metadata": {
    "collapsed": false
   },
   "outputs": [],
   "source": [
    "import sys\n",
    "import os \n",
    "import re\n",
    "import lib.database_module as db\n",
    "import lib.download_mine as down\n",
    "import lib.encoding_module as en\n",
    "from sklearn.externals import joblib\n",
    "from sklearn.metrics.pairwise import cosine_similarity"
   ]
  },
  {
   "cell_type": "code",
   "execution_count": null,
   "metadata": {
    "collapsed": true
   },
   "outputs": [],
   "source": [
    "def Search(search_list, db_location):    # print command line arguments\n",
    "    pickled_transformer = joblib.load('data/vectorizer.pkl')\n",
    "    search_vector = en.get_searchterm_vector(pickled_transformer,search_list[0])\n",
    "    pages_vectors = db.select_all_page_vectors(location=db_location)\n",
    "    vectors = [x[1] for x in pages_vectors]\n",
    "    page_ids = [x[0] for x in pages_vectors]\n",
    "    "
   ]
  },
  {
   "cell_type": "code",
   "execution_count": 13,
   "metadata": {
    "collapsed": false
   },
   "outputs": [],
   "source": [
    "search_list = \"Bayes\"\n",
    "db_location = 'local'\n",
    "pickled_transformer = joblib.load('data/vectorizer.pkl')\n",
    "search_vector = en.get_searchterm_vector(pickled_transformer,search_list[0])\n",
    "pages_vectors = db.select_all_page_vectors(location=db_location)\n",
    "vectors = [x[1] for x in pages_vectors]\n",
    "page_ids = [x[0] for x in pages_vectors]"
   ]
  },
  {
   "cell_type": "code",
   "execution_count": 17,
   "metadata": {
    "collapsed": false
   },
   "outputs": [
    {
     "data": {
      "text/plain": [
       "(676555,\n",
       " [0.0011746330803574,\n",
       "  0.0061037577313836,\n",
       "  -0.000157804087470463,\n",
       "  0.00196012269692119,\n",
       "  0.00941475015153055,\n",
       "  -0.013012812078798,\n",
       "  -0.000542260828221871,\n",
       "  -0.0081548233702708,\n",
       "  -0.00103290968500331,\n",
       "  -0.000678648074152639,\n",
       "  -0.00315987877963146,\n",
       "  0.000592005767047315,\n",
       "  2.61714620680391e-05,\n",
       "  0.0019903751490587,\n",
       "  2.94343511944512e-05])"
      ]
     },
     "execution_count": 17,
     "metadata": {},
     "output_type": "execute_result"
    }
   ],
   "source": [
    "pages_vectors[3]"
   ]
  },
  {
   "cell_type": "code",
   "execution_count": 10,
   "metadata": {
    "collapsed": true
   },
   "outputs": [],
   "source": [
    "cos = cosine_similarity(vectors,search_vector[search_vector.keys()[0]])\n",
    "indices = cos.argsort(axis = 0)[-5:].ravel().tolist()\n",
    "indices.reverse()\n",
    "page_match_list = [(page_ids[i], cos[i]) for i in indices]\n",
    "temp_list =[]\n",
    "\n",
    "connection, cur, _ = db.connect_to_postgres(db_location)\n",
    "for page,score in page_match_list:\n",
    "    sql = \"\"\"SELECT title, page\n",
    "             FROM page\n",
    "             WHERE page_id = {};\"\"\".format(page)\n",
    "    cur.execute(sql)\n",
    "    temp = cur.fetchone()\n",
    "    connection.commit()\n",
    "    #print \"Page title: {}\\n{}\\n\\n\".format(temp[0], temp[1][:250])\n",
    "    temp_list.append( (temp[0], temp[1][:280], score))\n",
    "\n",
    "cur.close()\n",
    "connection.close()\n",
    "\n",
    "for result in temp_list:\n",
    "    print \"Page title: {}  Match Score: {:.2f}\\n{}\\n\\n\".format(result[0],(result[2][0])*100,result[1][:280].replace(\"\\n\",\" \"))"
   ]
  },
  {
   "cell_type": "code",
   "execution_count": null,
   "metadata": {
    "collapsed": false
   },
   "outputs": [],
   "source": []
  },
  {
   "cell_type": "code",
   "execution_count": null,
   "metadata": {
    "collapsed": true
   },
   "outputs": [],
   "source": []
  }
 ],
 "metadata": {
  "kernelspec": {
   "display_name": "Python [conda root]",
   "language": "python",
   "name": "conda-root-py"
  },
  "language_info": {
   "codemirror_mode": {
    "name": "ipython",
    "version": 2
   },
   "file_extension": ".py",
   "mimetype": "text/x-python",
   "name": "python",
   "nbconvert_exporter": "python",
   "pygments_lexer": "ipython2",
   "version": "2.7.13"
  }
 },
 "nbformat": 4,
 "nbformat_minor": 2
}
