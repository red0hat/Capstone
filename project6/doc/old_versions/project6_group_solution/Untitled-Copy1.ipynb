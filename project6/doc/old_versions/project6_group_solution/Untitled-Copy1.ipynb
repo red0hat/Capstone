{
 "cells": [
  {
   "cell_type": "code",
   "execution_count": 1,
   "metadata": {
    "collapsed": false
   },
   "outputs": [
    {
     "ename": "ImportError",
     "evalue": "No module named download_mine",
     "output_type": "error",
     "traceback": [
      "\u001b[0;31m---------------------------------------------------------------------------\u001b[0m",
      "\u001b[0;31mImportError\u001b[0m                               Traceback (most recent call last)",
      "\u001b[0;32m<ipython-input-1-b1d90eea0fab>\u001b[0m in \u001b[0;36m<module>\u001b[0;34m()\u001b[0m\n\u001b[1;32m      4\u001b[0m \u001b[0;32mimport\u001b[0m \u001b[0mre\u001b[0m\u001b[0;34m\u001b[0m\u001b[0m\n\u001b[1;32m      5\u001b[0m \u001b[0;32mimport\u001b[0m \u001b[0mlib\u001b[0m\u001b[0;34m.\u001b[0m\u001b[0mdatabase_module\u001b[0m \u001b[0;32mas\u001b[0m \u001b[0mdb\u001b[0m\u001b[0;34m\u001b[0m\u001b[0m\n\u001b[0;32m----> 6\u001b[0;31m \u001b[0;32mimport\u001b[0m \u001b[0mlib\u001b[0m\u001b[0;34m.\u001b[0m\u001b[0mdownload_mine\u001b[0m \u001b[0;32mas\u001b[0m \u001b[0mdown\u001b[0m\u001b[0;34m\u001b[0m\u001b[0m\n\u001b[0m\u001b[1;32m      7\u001b[0m \u001b[0;32mfrom\u001b[0m \u001b[0msklearn\u001b[0m\u001b[0;34m.\u001b[0m\u001b[0mexternals\u001b[0m \u001b[0;32mimport\u001b[0m \u001b[0mjoblib\u001b[0m\u001b[0;34m\u001b[0m\u001b[0m\n",
      "\u001b[0;31mImportError\u001b[0m: No module named download_mine"
     ]
    }
   ],
   "source": [
    "import sys\n",
    "import yaml\n",
    "import os \n",
    "import re\n",
    "import lib.database_module as db\n",
    "import lib.download_mine as down\n",
    "from sklearn.externals import joblib"
   ]
  },
  {
   "cell_type": "code",
   "execution_count": null,
   "metadata": {
    "collapsed": true
   },
   "outputs": [],
   "source": [
    "def fetch_and_store_page(title, page_id,category_number,db_location):\n",
    "    global pickled_transformer\n",
    "    if re.search('Category:',title) or re.search('User:',title):\n",
    "            pass\n",
    "    text = get_text(title)\n",
    "    db.create_or_update_page_in_database(page_id,category_number,title,text,db_location)\n",
    "    page_vector = pickled_transformer.transform([text])\n",
    "    db.create_or_update_page_vector(page_id, page_vector)"
   ]
  },
  {
   "cell_type": "code",
   "execution_count": null,
   "metadata": {
    "collapsed": true
   },
   "outputs": [],
   "source": [
    "def get_text(title):\n",
    "    wiki_page = wikipedia_get_page(title)\n",
    "    soup = BeautifulSoup(wiki_page[wiki_page.keys()[0]]['extract'], \"html.parser\")\n",
    "    return soup.get_text()"
   ]
  },
  {
   "cell_type": "code",
   "execution_count": null,
   "metadata": {
    "collapsed": true
   },
   "outputs": [],
   "source": [
    "def get_categories():\n",
    "    \"\"\"Read the arguments, and if there is a file in the arugments list, \n",
    "    assume it is a yaml file, and try to add it's contents\"\"\"\n",
    "    db_location = None\n",
    "    category_list = [ ]\n",
    "    for arg in sys.argv[1:]:\n",
    "        if os.path.isfile(arg):\n",
    "            with open(arg, 'r') as f:\n",
    "                category_list.extend(yaml.load(f)['category'])\n",
    "        elif re.findall('location=', arg):\n",
    "            db_location=  re.findall('location=(\\w*)', arg)[0]\n",
    "        else:\n",
    "            category_list.append(arg)\n",
    "    return category_list, db_location            "
   ]
  },
  {
   "cell_type": "code",
   "execution_count": null,
   "metadata": {
    "collapsed": true
   },
   "outputs": [],
   "source": [
    "category_list, db_location = get_categories()\n",
    "pickled_transformer = joblib.load('data/vectorizer.pkl')"
   ]
  },
  {
   "cell_type": "code",
   "execution_count": null,
   "metadata": {
    "collapsed": true
   },
   "outputs": [],
   "source": [
    "for cate in category_list:\n",
    "    category = down.wikipedia_get_page(cate, category=True)\n",
    "    cate_id = category.keys()[0]\n",
    "    cate_name = cate\n",
    "    db.create_or_update_category_in_database(cate_id,cate_name,db_location)\n",
    "    pages = down.wikipedia_get_pages_for_category(cate_name)\n",
    "    for page in pages:\n",
    "        down.fetch_and_store_page(page[u'title'],page['pageid'],cate_id,db_location)"
   ]
  },
  {
   "cell_type": "code",
   "execution_count": null,
   "metadata": {
    "collapsed": true
   },
   "outputs": [],
   "source": [
    "db.delete_blank_page_text(db_location)"
   ]
  }
 ],
 "metadata": {
  "kernelspec": {
   "display_name": "Python [conda root]",
   "language": "python",
   "name": "conda-root-py"
  },
  "language_info": {
   "codemirror_mode": {
    "name": "ipython",
    "version": 2
   },
   "file_extension": ".py",
   "mimetype": "text/x-python",
   "name": "python",
   "nbconvert_exporter": "python",
   "pygments_lexer": "ipython2",
   "version": "2.7.13"
  }
 },
 "nbformat": 4,
 "nbformat_minor": 2
}
