{
 "cells": [
  {
   "cell_type": "code",
   "execution_count": 1,
   "metadata": {
    "collapsed": true
   },
   "outputs": [],
   "source": [
    "import lib.wiki_module as wiki\n",
    "import lib.database_module as db\n",
    "import lib.encoding_module as enc\n",
    "from sklearn.externals import joblib"
   ]
  },
  {
   "cell_type": "code",
   "execution_count": 2,
   "metadata": {
    "collapsed": false
   },
   "outputs": [],
   "source": [
    "pickled_transformer = joblib.load('data/vectorizer.pkl')\n",
    "category_name = 'Sandwiches'\n",
    "category_dict = wiki.query_category(category_name)"
   ]
  },
  {
   "cell_type": "code",
   "execution_count": 3,
   "metadata": {
    "collapsed": false
   },
   "outputs": [],
   "source": [
    "category_id = int(category_dict['categoryid'])\n",
    "pages_dict = category_dict['pages']"
   ]
  },
  {
   "cell_type": "code",
   "execution_count": 4,
   "metadata": {
    "collapsed": false
   },
   "outputs": [
    {
     "name": "stdout",
     "output_type": "stream",
     "text": [
      "Connected to server localhost.\n"
     ]
    },
    {
     "data": {
      "text/plain": [
       "'OK'"
      ]
     },
     "execution_count": 4,
     "metadata": {},
     "output_type": "execute_result"
    }
   ],
   "source": [
    "db.create_or_update_category_in_database(category_name=category_name,\n",
    "                                         category_id=category_id,\n",
    "                                        location = 'local_group_solution')"
   ]
  },
  {
   "cell_type": "code",
   "execution_count": 5,
   "metadata": {
    "collapsed": false
   },
   "outputs": [
    {
     "name": "stdout",
     "output_type": "stream",
     "text": [
      "Connected to server localhost.\n"
     ]
    },
    {
     "ename": "AttributeError",
     "evalue": "'module' object has no attribute 'create_or_update_page_vector'",
     "output_type": "error",
     "traceback": [
      "\u001b[0;31m---------------------------------------------------------------------------\u001b[0m",
      "\u001b[0;31mAttributeError\u001b[0m                            Traceback (most recent call last)",
      "\u001b[0;32m<ipython-input-5-5459e7e381f4>\u001b[0m in \u001b[0;36m<module>\u001b[0;34m()\u001b[0m\n\u001b[1;32m     11\u001b[0m                                          location = 'local_group_solution')\n\u001b[1;32m     12\u001b[0m     \u001b[0mpage_vector\u001b[0m \u001b[0;34m=\u001b[0m \u001b[0mpickled_transformer\u001b[0m\u001b[0;34m.\u001b[0m\u001b[0mtransform\u001b[0m\u001b[0;34m(\u001b[0m\u001b[0;34m[\u001b[0m\u001b[0mtext\u001b[0m\u001b[0;34m]\u001b[0m\u001b[0;34m)\u001b[0m\u001b[0;34m\u001b[0m\u001b[0m\n\u001b[0;32m---> 13\u001b[0;31m     \u001b[0mdb\u001b[0m\u001b[0;34m.\u001b[0m\u001b[0mcreate_or_update_page_vector\u001b[0m\u001b[0;34m(\u001b[0m\u001b[0mpage_id\u001b[0m\u001b[0;34m,\u001b[0m \u001b[0mpage_vector\u001b[0m\u001b[0;34m)\u001b[0m\u001b[0;34m\u001b[0m\u001b[0m\n\u001b[0m\u001b[1;32m     14\u001b[0m     \u001b[0;31m#pages_to_vectorize.append(page['pageid'])\u001b[0m\u001b[0;34m\u001b[0m\u001b[0;34m\u001b[0m\u001b[0m\n\u001b[1;32m     15\u001b[0m     \u001b[0;31m#text_to_vectorize.append(text)\u001b[0m\u001b[0;34m\u001b[0m\u001b[0;34m\u001b[0m\u001b[0m\n",
      "\u001b[0;31mAttributeError\u001b[0m: 'module' object has no attribute 'create_or_update_page_vector'"
     ]
    }
   ],
   "source": [
    "pages_to_vectorize = []\n",
    "text_to_vectorize = []\n",
    "for page in pages_dict:\n",
    "#     _, _, text, _ = wiki.query_page(pageid=str(page['pageid']))\n",
    "#    print wiki.query_page(pageid=str(page['pageid']))\n",
    "    text = wiki.query_page(pageid=str(page['pageid']))['text']\n",
    "    db.create_or_update_page_in_database(page_id = page['pageid'], \n",
    "                                         category_id=category_id, \n",
    "                                         page_title = page[\"title\"].replace(\"'\",\"\"),\n",
    "                                         page_text = text,\n",
    "                                         location = 'local_group_solution')\n",
    "    pages_to_vectorize.append(page['pageid'])\n",
    "    text_to_vectorize.append(text)\n"
   ]
  },
  {
   "cell_type": "code",
   "execution_count": null,
   "metadata": {
    "collapsed": false
   },
   "outputs": [],
   "source": [
    "encoded_pages = enc.get_page_vector(transformer = pickled_transformer,\n",
    "                    clean_pages=text_to_vectorize, \n",
    "                    page_ids=pages_to_vectorize)"
   ]
  },
  {
   "cell_type": "code",
   "execution_count": null,
   "metadata": {
    "collapsed": false
   },
   "outputs": [],
   "source": [
    "connection, cursor = db.connect_to_postgres('local_group_solution')\n",
    "#cursor.execute('DELETE FROM page_vec;')\n",
    "connection.commit()\n",
    "\n",
    "for page_id, vector in encoded_pages.items():\n",
    "    sql_page_vector = \"\"\"INSERT INTO page_vec (page_id, page_vector)\n",
    "           VALUES ({}, ARRAY{})\n",
    "           on conflict do nothing;\"\"\".format(page_id, list(vector[0]))\n",
    "    cursor.execute(sql_page_vector)\n",
    "    connection.commit()\n",
    "cursor.close()\n",
    "connection.close()"
   ]
  },
  {
   "cell_type": "code",
   "execution_count": null,
   "metadata": {
    "collapsed": false
   },
   "outputs": [],
   "source": [
    "encoded_category = enc.get_cat_vector(transformer = pickled_transformer,\n",
    "                                      clean_pages_in_cat=text_to_vectorize, \n",
    "                                      cat=category_id)\n",
    "  "
   ]
  },
  {
   "cell_type": "code",
   "execution_count": null,
   "metadata": {
    "collapsed": false
   },
   "outputs": [],
   "source": [
    "connection, cursor = db.connect_to_postgres('local_group_solution')\n",
    "connection.commit()\n",
    "\n",
    "for cate_id in encoded_category.keys():\n",
    "    sql_cate_vector = \"\"\"INSERT INTO cate_vec (category_id, category_vec)\n",
    "           VALUES ({}, ARRAY{})\n",
    "           on conflict do nothing;\"\"\".format(cate_id, list(encoded_category[cate_id][0]))\n",
    "    cursor.execute(sql_cate_vector)\n",
    "    connection.commit()\n",
    "cursor.close()\n",
    "connection.close()"
   ]
  },
  {
   "cell_type": "code",
   "execution_count": null,
   "metadata": {
    "collapsed": false
   },
   "outputs": [],
   "source": [
    "len(text_to_vectorize)"
   ]
  },
  {
   "cell_type": "code",
   "execution_count": null,
   "metadata": {
    "collapsed": false
   },
   "outputs": [],
   "source": [
    "text_to_vectorize[6]"
   ]
  },
  {
   "cell_type": "code",
   "execution_count": null,
   "metadata": {
    "collapsed": false
   },
   "outputs": [],
   "source": [
    "%timeit pickled_transformer.transform([text_to_vectorize[7]])"
   ]
  },
  {
   "cell_type": "code",
   "execution_count": null,
   "metadata": {
    "collapsed": true
   },
   "outputs": [],
   "source": []
  }
 ],
 "metadata": {
  "kernelspec": {
   "display_name": "Python [conda root]",
   "language": "python",
   "name": "conda-root-py"
  },
  "language_info": {
   "codemirror_mode": {
    "name": "ipython",
    "version": 2
   },
   "file_extension": ".py",
   "mimetype": "text/x-python",
   "name": "python",
   "nbconvert_exporter": "python",
   "pygments_lexer": "ipython2",
   "version": "2.7.13"
  }
 },
 "nbformat": 4,
 "nbformat_minor": 2
}
