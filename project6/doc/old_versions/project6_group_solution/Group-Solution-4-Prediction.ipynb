{
 "cells": [
  {
   "cell_type": "markdown",
   "metadata": {},
   "source": [
    "# Project 6- Pipeline 4 - Predict"
   ]
  },
  {
   "cell_type": "markdown",
   "metadata": {},
   "source": [
    "### Mine: Query Wikipedia by page id for content"
   ]
  },
  {
   "cell_type": "code",
   "execution_count": 1,
   "metadata": {
    "collapsed": true
   },
   "outputs": [],
   "source": [
    "import lib.wiki_module as wiki\n",
    "import lib.encoding_module as enc\n",
    "import lib.database_module as db\n",
    "from sklearn.externals import joblib\n",
    "model = joblib.load('../../../data/vectorizer.pkl')\n",
    "from sklearn.metrics.pairwise import cosine_similarity\n",
    "import numpy as np"
   ]
  },
  {
   "cell_type": "code",
   "execution_count": 38,
   "metadata": {
    "collapsed": true
   },
   "outputs": [],
   "source": [
    "page_id = '4143342'"
   ]
  },
  {
   "cell_type": "code",
   "execution_count": 39,
   "metadata": {
    "collapsed": false
   },
   "outputs": [],
   "source": [
    "page_text = wiki.query_page(page_id)"
   ]
  },
  {
   "cell_type": "code",
   "execution_count": 40,
   "metadata": {
    "collapsed": false
   },
   "outputs": [
    {
     "name": "stdout",
     "output_type": "stream",
     "text": [
      "Marshyhope Creek is a 37.0-mile-long (59.5 km) tributary of the Nanticoke River on the Delmarva Peninsula. It rises in Kent County, Delaware, and runs through Caroline County, Maryland, and Dorchester County, Maryland. Marshyhope Creek begins in southwestern Kent County, Delaware, near the city of Harrington, and ends at the Nanticoke River, near Sharptown, Maryland. The entire watershed is in the coastal plain and reaches sea level at Brookview, Maryland. Federalsburg is the head of navigation. There are several small creeks on the western shore, including Faulkner Branch, Sullivan Branch, Capital Branch, Green Branch, and Horsepen Arm. On the eastern shore the small creeks include Tanyard Branch, Houston Branch, Jones Mill Branch, Double Fork Branch, Quarter Branch, Tomahawk Branch, and Prospect Point Branch. See alsoEdit List of rivers of Delaware ReferencesEdit United States Geological Survey. 7.5 minute series topographic quadrangles\n"
     ]
    }
   ],
   "source": [
    "print page_text['text']"
   ]
  },
  {
   "cell_type": "markdown",
   "metadata": {},
   "source": [
    "### Parse: Encode page as document vector"
   ]
  },
  {
   "cell_type": "code",
   "execution_count": 41,
   "metadata": {
    "collapsed": false
   },
   "outputs": [],
   "source": [
    "search_term_vector = enc.get_searchterm_vector(model,page_text['text'])"
   ]
  },
  {
   "cell_type": "code",
   "execution_count": 42,
   "metadata": {
    "collapsed": false
   },
   "outputs": [],
   "source": [
    "search_vector =  search_term_vector[search_term_vector.keys()[0]][0]"
   ]
  },
  {
   "cell_type": "code",
   "execution_count": 43,
   "metadata": {
    "collapsed": false
   },
   "outputs": [
    {
     "name": "stdout",
     "output_type": "stream",
     "text": [
      "Connected to server joshuacook.me.\n"
     ]
    }
   ],
   "source": [
    "cat_vectors = db.select_all_category_vectors()  #local_group_solution\n"
   ]
  },
  {
   "cell_type": "code",
   "execution_count": 44,
   "metadata": {
    "collapsed": false
   },
   "outputs": [],
   "source": [
    "category_ids, category_vectors = zip(*cat_vectors)"
   ]
  },
  {
   "cell_type": "code",
   "execution_count": 45,
   "metadata": {
    "collapsed": false
   },
   "outputs": [],
   "source": [
    "cos = cosine_similarity(category_vectors,search_vector.reshape(1,-1))\n",
    "#print zip(category_ids, cos)"
   ]
  },
  {
   "cell_type": "code",
   "execution_count": 46,
   "metadata": {
    "collapsed": false
   },
   "outputs": [],
   "source": [
    "cos.argmax()\n",
    "match1 = category_ids[cos.argmax()]\n",
    "confidence1 = 2*cos.item(cos.argmax())\n",
    "cos2 = np.delete(cos, cos.argmax())\n",
    "category_ids2 = np.delete(category_ids,cos.argmax())\n",
    "match2 = category_ids2[cos2.argmax()]\n",
    "confidence2 = 2*cos2.item(cos2.argmax())"
   ]
  },
  {
   "cell_type": "code",
   "execution_count": 49,
   "metadata": {
    "collapsed": false
   },
   "outputs": [
    {
     "name": "stdout",
     "output_type": "stream",
     "text": [
      "Connected to server joshuacook.me.\n",
      "Connected to server joshuacook.me.\n",
      "\n",
      "\n",
      "The best fit category is Physical_quantities with a 31% confidence.\n",
      "The next best fit is health care with a 26% confidence.\n"
     ]
    }
   ],
   "source": [
    "sql = \"\"\"select category_name \n",
    "         FROM category\n",
    "         WHERE category_id\n",
    "         IN ('{}');\n",
    "    \"\"\".format (match1)\n",
    "match_name1 = db.execute_sql_statement(sql)\n",
    "match_name1 = match_name1[0]\n",
    "sql = \"\"\"select category_name \n",
    "         FROM category\n",
    "         WHERE category_id\n",
    "         IN ('{}');\n",
    "    \"\"\".format (match2)\n",
    "match_name2 = db.execute_sql_statement(sql)\n",
    "match_name2 = match_name2[0]\n",
    "print \"\\n\\nThe best fit category is {} with a {:.0f}% confidence.\".format(match_name1[0],confidence1*100)\n",
    "print \"The next best fit is {} with a {:.0f}% confidence.\".format(match_name2[0],confidence2*100)"
   ]
  },
  {
   "cell_type": "code",
   "execution_count": null,
   "metadata": {
    "collapsed": true
   },
   "outputs": [],
   "source": []
  }
 ],
 "metadata": {
  "anaconda-cloud": {},
  "kernelspec": {
   "display_name": "Python [conda root]",
   "language": "python",
   "name": "conda-root-py"
  },
  "language_info": {
   "codemirror_mode": {
    "name": "ipython",
    "version": 2
   },
   "file_extension": ".py",
   "mimetype": "text/x-python",
   "name": "python",
   "nbconvert_exporter": "python",
   "pygments_lexer": "ipython2",
   "version": "2.7.13"
  }
 },
 "nbformat": 4,
 "nbformat_minor": 1
}
