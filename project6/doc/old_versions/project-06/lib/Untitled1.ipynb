{
 "cells": [
  {
   "cell_type": "code",
   "execution_count": 14,
   "metadata": {
    "collapsed": false
   },
   "outputs": [],
   "source": [
    "import psycopg2\n",
    "\n",
    "def connect_to_postgres (location = 'remote', port = 5432):\n",
    "    \n",
    "    with open('cred') as f:\n",
    "        cred =  eval(f.read())\n",
    "    credentials = cred[location]\n",
    "    user_name = credentials['user_name']\n",
    "    password = credentials['password'] \n",
    "    url = credentials['url']\n",
    "    database = credentials['database']\n",
    "    try:\n",
    "        connection = psycopg2.connect(dbname=database,\n",
    "                                  user=user_name, \n",
    "                                  host=url, \n",
    "                                  port=port, \n",
    "                                  password=password)\n",
    "        return connection, connection.cursor()\n",
    "    except:\n",
    "        print \"Could not connect to database.  Trying postgres server on localhost.\"\n",
    "        credentials = cred['local']\n",
    "        user_name = credentials['user_name']\n",
    "        password = credentials['password'] \n",
    "        url = credentials['url']\n",
    "        database = credentials['database']       \n",
    "        try:\n",
    "            connection = psycopg2.connect(dbname=database,\n",
    "                          user=user_name, \n",
    "                          host=url, \n",
    "                          port=port, \n",
    "                          password=password)\n",
    "            return connection, connection.cursor()\n",
    "        except:\n",
    "            print \"No Database is available\"\n",
    "            pass"
   ]
  },
  {
   "cell_type": "code",
   "execution_count": 16,
   "metadata": {
    "collapsed": false
   },
   "outputs": [
    {
     "name": "stdout",
     "output_type": "stream",
     "text": [
      "(757471L, 'Sandwiches')\n",
      "None\n"
     ]
    }
   ],
   "source": [
    "connection ,cursor = connect_to_postgres(location = 'remote')\n",
    "sql = \"\"\"\n",
    "    SELECT * FROM category;\n",
    "    \"\"\"\n",
    "cursor.execute(sql)\n",
    "\n",
    "print cursor.fetchone()\n",
    "print cursor.fetchone()\n",
    "connection.close()"
   ]
  },
  {
   "cell_type": "code",
   "execution_count": 35,
   "metadata": {
    "collapsed": false
   },
   "outputs": [],
   "source": [
    "connection ,cursor = connect_to_postgres(location = 'local')\n",
    "sql = \"\"\"\n",
    "    DELETE FROM category \n",
    "    Where  category.category_name = 'Sandwiches';\n",
    "    \"\"\"\n",
    "cursor.execute(sql)\n",
    "\n",
    "#print cursor.fetchone()\n",
    "#print cursor.fetchone()\n",
    "connection.close()"
   ]
  },
  {
   "cell_type": "code",
   "execution_count": 8,
   "metadata": {
    "collapsed": false
   },
   "outputs": [],
   "source": [
    "with open('cred') as f:\n",
    "    cred =  eval(f.read())\n",
    "credentials = cred['remote']\n",
    "user_name = credentials['user_name']\n",
    "password = credentials['password'] \n",
    "url = credentials['url']\n",
    "database = credentials['database']\n",
    "connection = psycopg2.connect(dbname=database,\n",
    "                          user=user_name, \n",
    "                          host=url, \n",
    "                          port=5432, \n",
    "                          password=password)\n"
   ]
  },
  {
   "cell_type": "code",
   "execution_count": 9,
   "metadata": {
    "collapsed": false
   },
   "outputs": [
    {
     "data": {
      "text/plain": [
       "1"
      ]
     },
     "execution_count": 9,
     "metadata": {},
     "output_type": "execute_result"
    }
   ],
   "source": [
    "connection.status"
   ]
  },
  {
   "cell_type": "code",
   "execution_count": null,
   "metadata": {
    "collapsed": true
   },
   "outputs": [],
   "source": []
  }
 ],
 "metadata": {
  "kernelspec": {
   "display_name": "Python [conda root]",
   "language": "python",
   "name": "conda-root-py"
  },
  "language_info": {
   "codemirror_mode": {
    "name": "ipython",
    "version": 2
   },
   "file_extension": ".py",
   "mimetype": "text/x-python",
   "name": "python",
   "nbconvert_exporter": "python",
   "pygments_lexer": "ipython2",
   "version": "2.7.12"
  }
 },
 "nbformat": 4,
 "nbformat_minor": 1
}
