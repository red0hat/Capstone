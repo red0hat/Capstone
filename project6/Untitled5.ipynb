{
 "cells": [
  {
   "cell_type": "code",
   "execution_count": 12,
   "metadata": {
    "collapsed": false
   },
   "outputs": [
    {
     "name": "stdout",
     "output_type": "stream",
     "text": [
      "List :  [123, 'zara', 'abc', 'xyz']\n",
      "List :  [123, 'zara', 'xyz']\n"
     ]
    }
   ],
   "source": [
    "#!/usr/bin/python\n",
    "\n",
    "aList = [123, 'xyz', 'zara', 'abc', 'xyz'];\n",
    "\n",
    "aList.remove('xyz');\n",
    "print \"List : \", aList\n",
    "aList.remove('abc');\n",
    "print \"List : \", aList"
   ]
  },
  {
   "cell_type": "code",
   "execution_count": 25,
   "metadata": {
    "collapsed": true
   },
   "outputs": [],
   "source": [
    "oprah = ['culture', 'men', 'get', 'supersoulsunday', 'ownambassadors', 'shakasenghor',\n",
    "         'definitely', 'one', 'time', 'favorites', 'v_heritier', 'shakasenghor', 'wanted', 'become', \n",
    "         'doctor', 'mom', 'always', 'treated', 'nicely', 'front', 'doctorsupersoulsunday', 'shakasenghor', \n",
    "         'bonded', 'aha', 'moments', 'rare', 'thing', 'happenwritingmywrongs', 'supersoulsunday', 'shakasenghor',\n",
    "         'true', \"''\", 'believing', \"''\", 'writingmywrongs', 'supersoulsunday', 'joey0625', 'growingown', \n",
    "         'finishwritingmywrongs', 'devlinhuxtable', 'struck', '``', 'gangs', 'band', 'together', 'around',\n",
    "         'brokeness', \"''\", 'shakasenghor', 'wanted', 'doctor', 'mom', 'nice', 'doctor', 'mom', 'thru', 'pot', 'everything', 'changedsupersoulsunday', 'story', 'shakasenghor', 'coming', 'home', '8', 'years', 'old', 'set', 'course', 'troubled', 'lifebigmoment', 'supersoulsunday', 'janetmock', 'shakasenghor', 'hey', 'janet', 'glad', 'could', 'join', 'us', '15', 'minutes', 'til', 'supersoulsunday', 'shakasenghor', 'shaka', 'u', 'watching', 'rt', 'supersoulsunday', 'shakasenghor', 'explains', 'willingly', 'chose', 'life', 'streets', 'morning', 'supersoulers', '90', 'minutes', 'premiere', 'new', 'season', 'shakasenghor', '1', 'best', 'conversations', 'ive', 'ever', 'supersoulsunday', 'ryan_rubikscube', 'tpoulos', 'agree', 'ryan', 'happppppened', 'bravo', 'leo', 'standing', 'pjs', 'oscars', 'tpoulos', 'lovelymarisat', 'changed', 'rooms', 'lovelymarisat', 'help', 'heavens', 'yes', 'leos', 'time', 'pranganathan', 'happy', 'dance', 'brie', 'pranganathan', 'mine', 'go', 'brie', 'owninglight', 'agree', 'happy', 'allejandro', 'deserved', 'pranganathan', 'agree', 'best', 'moment', 'emmanuel', 'lubezki', 'oscars', 'chrisrock', 'breathe', 'queensugarown', 'loved', 'working', 'nola', 'todaythanks', 'suppo', 'queensugarown', 'avaetc', 'headed', 'lots', 'marathon', 'traffic', 'backup', 'see', 'u', 'soon', 'loving']"
   ]
  },
  {
   "cell_type": "code",
   "execution_count": 26,
   "metadata": {
    "collapsed": false
   },
   "outputs": [
    {
     "data": {
      "text/plain": [
       "168"
      ]
     },
     "execution_count": 26,
     "metadata": {},
     "output_type": "execute_result"
    }
   ],
   "source": [
    "len(oprah)"
   ]
  },
  {
   "cell_type": "code",
   "execution_count": 28,
   "metadata": {
    "collapsed": false
   },
   "outputs": [],
   "source": [
    "oprah = [item for item in oprah if item not in ['shakasenghor','front']]"
   ]
  },
  {
   "cell_type": "code",
   "execution_count": 29,
   "metadata": {
    "collapsed": false
   },
   "outputs": [
    {
     "data": {
      "text/plain": [
       "157"
      ]
     },
     "execution_count": 29,
     "metadata": {},
     "output_type": "execute_result"
    }
   ],
   "source": [
    "len(oprah)"
   ]
  },
  {
   "cell_type": "code",
   "execution_count": 19,
   "metadata": {
    "collapsed": false
   },
   "outputs": [
    {
     "data": {
      "text/plain": [
       "166"
      ]
     },
     "execution_count": 19,
     "metadata": {},
     "output_type": "execute_result"
    }
   ],
   "source": [
    "oprah.remove('shakasenghor')\n",
    "len(oprah)"
   ]
  },
  {
   "cell_type": "code",
   "execution_count": null,
   "metadata": {
    "collapsed": true
   },
   "outputs": [],
   "source": []
  }
 ],
 "metadata": {
  "kernelspec": {
   "display_name": "Python [conda root]",
   "language": "python",
   "name": "conda-root-py"
  },
  "language_info": {
   "codemirror_mode": {
    "name": "ipython",
    "version": 2
   },
   "file_extension": ".py",
   "mimetype": "text/x-python",
   "name": "python",
   "nbconvert_exporter": "python",
   "pygments_lexer": "ipython2",
   "version": "2.7.13"
  }
 },
 "nbformat": 4,
 "nbformat_minor": 2
}
