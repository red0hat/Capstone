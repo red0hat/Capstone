{
 "cells": [
  {
   "cell_type": "code",
   "execution_count": 5,
   "metadata": {
    "collapsed": true
   },
   "outputs": [],
   "source": [
    "import lib.encoding_module as en\n",
    "#import lib.database_module as db\n",
    "import lib.download_mine as down\n",
    "import psycopg2\n",
    "import yaml"
   ]
  },
  {
   "cell_type": "code",
   "execution_count": 10,
   "metadata": {
    "collapsed": true
   },
   "outputs": [],
   "source": [
    "def connect_to_postgres (location = 'remote'):\n",
    "    \"\"\" v 1.2 Open a psycopg2 connection and create a cursor based on a yaml credential file.\n",
    "        The current expected name of the yaml file is \"Database_credentials\"; please customize this to your taste.\n",
    "        The credentials file will look for a entry in the dictionary called 'remote' by default.  If the remote\n",
    "        databse is unavailalbe, it will attempt to connect with the settings the 'local' key.  \n",
    "        Please remember to close the cursor and connection when you are done using them.        \n",
    "    \"\"\"\n",
    "#TO DO: make  'location' to a list and iterate through the list, rather than default to local db.\n",
    "#TO DO: add credential file support as a param for the function call.\n",
    "\n",
    "\n",
    "    with open('data/credentials.yml', 'r') as f:\n",
    "        credentials =  yaml.load(f) \n",
    "    print credentials[location]\n",
    "    try:\n",
    "        connection = psycopg2.connect(**credentials[location])\n",
    "        return connection, connection.cursor(), \"Connected to server {}.\".format(credentials[location]['host'])\n",
    "    except:\n",
    "        print 'FAILED to connect to server {}.  Trying local server.'.format(credentials[location]['host'])\n",
    "        try:\n",
    "            connection = psycopg2.connect(**credentials['local'])\n",
    "            return connection, connection.cursor(), \"Connected to server {}.\".format(credentials[location]['local']) \n",
    "        except:\n",
    "            print \"No Database is available\"\n",
    "            pass "
   ]
  },
  {
   "cell_type": "code",
   "execution_count": 12,
   "metadata": {
    "collapsed": false
   },
   "outputs": [
    {
     "name": "stdout",
     "output_type": "stream",
     "text": [
      "{'host': '54.219.186.114', 'password': 'What44for', 'port': 5432, 'dbname': 'Capstone', 'user': 'chris'}\n",
      "FAILED to connect to server 54.219.186.114.  Trying local server.\n",
      "No Database is available\n"
     ]
    },
    {
     "ename": "TypeError",
     "evalue": "'NoneType' object is not iterable",
     "output_type": "error",
     "traceback": [
      "\u001b[0;31m---------------------------------------------------------------------------\u001b[0m",
      "\u001b[0;31mTypeError\u001b[0m                                 Traceback (most recent call last)",
      "\u001b[0;32m<ipython-input-12-7db0169735d3>\u001b[0m in \u001b[0;36m<module>\u001b[0;34m()\u001b[0m\n\u001b[0;32m----> 1\u001b[0;31m \u001b[0mconnect\u001b[0m\u001b[0;34m,\u001b[0m \u001b[0mcursor\u001b[0m\u001b[0;34m,\u001b[0m \u001b[0mstatus\u001b[0m \u001b[0;34m=\u001b[0m \u001b[0mconnect_to_postgres\u001b[0m\u001b[0;34m(\u001b[0m\u001b[0mlocation\u001b[0m\u001b[0;34m=\u001b[0m\u001b[0;34m'AWS'\u001b[0m\u001b[0;34m)\u001b[0m\u001b[0;34m\u001b[0m\u001b[0m\n\u001b[0m",
      "\u001b[0;31mTypeError\u001b[0m: 'NoneType' object is not iterable"
     ]
    }
   ],
   "source": [
    "connect, cursor, status = connect_to_postgres(location='AWS')"
   ]
  },
  {
   "cell_type": "code",
   "execution_count": 15,
   "metadata": {
    "collapsed": false
   },
   "outputs": [
    {
     "data": {
      "text/plain": [
       "<connection object at 0x114268b00; dsn: 'dbname=Capstone user=postgres password=xxxxxxx host=54.219.186.114', closed: 0>"
      ]
     },
     "execution_count": 15,
     "metadata": {},
     "output_type": "execute_result"
    }
   ],
   "source": [
    "psycopg2.connect(database='Capstone', user='postgres', password='bubbles', host='54.219.186.114')"
   ]
  },
  {
   "cell_type": "code",
   "execution_count": null,
   "metadata": {
    "collapsed": true
   },
   "outputs": [],
   "source": []
  }
 ],
 "metadata": {
  "kernelspec": {
   "display_name": "Python [conda root]",
   "language": "python",
   "name": "conda-root-py"
  },
  "language_info": {
   "codemirror_mode": {
    "name": "ipython",
    "version": 2
   },
   "file_extension": ".py",
   "mimetype": "text/x-python",
   "name": "python",
   "nbconvert_exporter": "python",
   "pygments_lexer": "ipython2",
   "version": "2.7.13"
  }
 },
 "nbformat": 4,
 "nbformat_minor": 2
}
