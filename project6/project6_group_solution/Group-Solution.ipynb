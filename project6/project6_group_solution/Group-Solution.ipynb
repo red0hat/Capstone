{
 "cells": [
  {
   "cell_type": "code",
   "execution_count": 1,
   "metadata": {
    "collapsed": true
   },
   "outputs": [],
   "source": [
    "import lib.wiki_module as wiki\n",
    "import lib.database_module as db\n",
    "import lib.encoding_module as enc\n",
    "from sklearn.externals import joblib"
   ]
  },
  {
   "cell_type": "code",
   "execution_count": 2,
   "metadata": {
    "collapsed": false
   },
   "outputs": [],
   "source": [
    "pickled_transformer = joblib.load('data/vectorizer.pkl')\n",
    "category_name = 'Sandwiches'\n",
    "category_dict = wiki.query_category(category_name)"
   ]
  },
  {
   "cell_type": "code",
   "execution_count": 3,
   "metadata": {
    "collapsed": false
   },
   "outputs": [],
   "source": [
    "category_id = int(category_dict['categoryid'])\n",
    "pages_dict = category_dict['pages']"
   ]
  },
  {
   "cell_type": "code",
   "execution_count": null,
   "metadata": {
    "collapsed": true
   },
   "outputs": [],
   "source": [
    "db.create_or_update_category_in_database(category_name=category_name,\n",
    "                                         category_id=category_id,\n",
    "                                        location = 'local')"
   ]
  },
  {
   "cell_type": "code",
   "execution_count": null,
   "metadata": {
    "collapsed": true
   },
   "outputs": [],
   "source": [
    "pages_to_vectorize = []\n",
    "text_to_vectorize = []\n",
    "for (page_id,title) in category_pages:\n",
    "    _, _, text, _ = wiki.query_page(pageid=page_id)\n",
    "    db.create_or_update_page_in_database(page_id = page_id, \n",
    "                                         category_id=category_id, \n",
    "                                         page_title = title,\n",
    "                                         page_text = text,\n",
    "                                         location = 'local')\n",
    "    pages_to_vectorize.append(page_id)\n",
    "    text_to_vectorize.append(text)\n",
    "\n",
    "enc.get_page_vector(transformer = pickled_transformer,\n",
    "                    clean_pages=text_to_vectorize, \n",
    "                    page_ids=pages_to_vectorize)\n",
    "\n",
    "\n",
    "\n",
    "enc.get_cat_vector(transformer = pickled_transformer, \n",
    "                   text_to_vectorize, \n",
    "                   cat=category_id)\n",
    "               "
   ]
  },
  {
   "cell_type": "code",
   "execution_count": 4,
   "metadata": {
    "collapsed": false
   },
   "outputs": [
    {
     "data": {
      "text/plain": [
       "757471"
      ]
     },
     "execution_count": 4,
     "metadata": {},
     "output_type": "execute_result"
    }
   ],
   "source": [
    "category_id"
   ]
  },
  {
   "cell_type": "code",
   "execution_count": 5,
   "metadata": {
    "collapsed": false
   },
   "outputs": [
    {
     "data": {
      "text/plain": [
       "[{'pageid': 82425, 'title': 'Sandwich'},\n",
       " {'pageid': 33686134, 'title': 'List of sandwiches'},\n",
       " {'pageid': 49033306, 'title': 'Afghani burger'},\n",
       " {'pageid': 2546911, 'title': 'Al pastor'},\n",
       " {'pageid': 31439892, 'title': 'Bagel toast'},\n",
       " {'pageid': 26081358, 'title': 'Bake and Shark'},\n",
       " {'pageid': 3334477, 'title': 'Baked bean sandwich'},\n",
       " {'pageid': 857888, 'title': 'Banh mi'},\n",
       " {'pageid': 38993657, 'title': 'Barbecue sandwich'},\n",
       " {'pageid': 13878469, 'title': 'Bauru (sandwich)'},\n",
       " {'pageid': 87542, 'title': 'BLT'},\n",
       " {'pageid': 24461606, 'title': 'Bocadillo'},\n",
       " {'pageid': 21068969, 'title': 'Bologna sandwich'},\n",
       " {'pageid': 796863, 'title': 'Bosna (sausage)'},\n",
       " {'pageid': 225765, 'title': 'Bratwurst'},\n",
       " {'pageid': 9089348, 'title': 'Breakfast sandwich'},\n",
       " {'pageid': 11079389, 'title': 'Bun kebab'},\n",
       " {'pageid': 3884262, 'title': 'Butterbrot'},\n",
       " {'pageid': 50648818, 'title': 'Carrozza (sandwich)'},\n",
       " {'pageid': 6757286, 'title': 'Cemita'},\n",
       " {'pageid': 46985084, 'title': 'Cheese and tomato sandwich'},\n",
       " {'pageid': 2316124, 'title': 'Cheese sandwich'},\n",
       " {'pageid': 4151690, 'title': 'Chicken salad'},\n",
       " {'pageid': 7411951, 'title': 'Chicken sandwich'},\n",
       " {'pageid': 3329237, 'title': 'Chivito (sandwich)'},\n",
       " {'pageid': 10943768, 'title': 'Chocolate sandwich'},\n",
       " {'pageid': 8350426, 'title': 'Choripan'},\n",
       " {'pageid': 358931, 'title': 'Club sandwich'},\n",
       " {'pageid': 19318626, 'title': 'Corned beef sandwich'},\n",
       " {'pageid': 21221263, 'title': 'Crisp sandwich'},\n",
       " {'pageid': 516772, 'title': 'Cuban sandwich'},\n",
       " {'pageid': 3340610, 'title': 'Cudighi'},\n",
       " {'pageid': 29154241, 'title': 'Dabeli'},\n",
       " {'pageid': 3377388, 'title': 'Deli Choices'},\n",
       " {'pageid': 877704, 'title': 'Doner kebab'},\n",
       " {'pageid': 30320804, 'title': 'Donkey Burger'},\n",
       " {'pageid': 2352115, 'title': 'Doubles (food)'},\n",
       " {'pageid': 41125200, 'title': 'Doughwich'},\n",
       " {'pageid': 21652301, 'title': 'Dyrlaegens natmad'},\n",
       " {'pageid': 3990873, 'title': 'Egg sandwich'},\n",
       " {'pageid': 30361857, 'title': 'Fischbrotchen'},\n",
       " {'pageid': 34709570, 'title': 'Fish finger sandwich'},\n",
       " {'pageid': 42404816, 'title': 'Fish sandwich'},\n",
       " {'pageid': 34067929, 'title': 'Flaeskesteg'},\n",
       " {'pageid': 1992614, 'title': 'Francesinha'},\n",
       " {'pageid': 28190752, 'title': 'Francesinha poveira'},\n",
       " {'pageid': 3469823, 'title': 'Fried cauliflower'},\n",
       " {'pageid': 20426802, 'title': 'Gatsby (sandwich)'},\n",
       " {'pageid': 4315021, 'title': 'Grease trucks'},\n",
       " {'pageid': 44405596, 'title': 'Gua bao'},\n",
       " {'pageid': 30730148, 'title': 'Guajolota'},\n",
       " {'pageid': 341075, 'title': 'Gyro (food)'},\n",
       " {'pageid': 1882965, 'title': 'Ham and cheese sandwich'},\n",
       " {'pageid': 13957530, 'title': 'Ham and egg bun'},\n",
       " {'pageid': 14442731, 'title': 'Ham sandwich'},\n",
       " {'pageid': 550376, 'title': 'Horseshoe sandwich'},\n",
       " {'pageid': 21606753, 'title': 'Jam sandwich (food)'},\n",
       " {'pageid': 8574890, 'title': 'Jibarito'},\n",
       " {'pageid': 4772308, 'title': 'Kati roll'},\n",
       " {'pageid': 1659792, 'title': 'Kottenbutter'},\n",
       " {'pageid': 21234013, 'title': 'Lettuce sandwich'},\n",
       " {'pageid': 39447294, 'title': 'Limburger sandwich'},\n",
       " {'pageid': 528261, 'title': 'Lunch meat'},\n",
       " {'pageid': 39052181, 'title': 'Make me a sandwich'},\n",
       " {'pageid': 2447796, 'title': 'Maxwell Street Polish'},\n",
       " {'pageid': 18709546, 'title': 'Medianoche'},\n",
       " {'pageid': 1152108, 'title': 'Melt sandwich'},\n",
       " {'pageid': 14848897, 'title': 'Mitraillette'},\n",
       " {'pageid': 6036445, 'title': 'Mollete'},\n",
       " {'pageid': 30697684, 'title': 'Montreal-style smoked meat'},\n",
       " {'pageid': 18118466, 'title': 'Mortadella sandwich'},\n",
       " {'pageid': 2725088, 'title': 'Muisjes'},\n",
       " {'pageid': 48888284, 'title': 'Oblozene chlebicky'},\n",
       " {'pageid': 446012, 'title': 'Open sandwich'},\n",
       " {'pageid': 6624272, 'title': 'Pambazo'},\n",
       " {'pageid': 7333748, 'title': 'Pebete'},\n",
       " {'pageid': 50622855, 'title': 'Pepito (sandwich)'},\n",
       " {'pageid': 43626458, 'title': 'Pistolet (bread)'},\n",
       " {'pageid': 22672541, 'title': 'Pistolette'},\n",
       " {'pageid': 561099, 'title': \"Po' boy\"},\n",
       " {'pageid': 8476180, 'title': 'Pocket sandwich'},\n",
       " {'pageid': 1952281, 'title': 'Porchetta'},\n",
       " {'pageid': 21256027, 'title': 'Porilainen'},\n",
       " {'pageid': 7545714, 'title': 'Pork chop bun'},\n",
       " {'pageid': 19738554, 'title': 'Prawn roll'},\n",
       " {'pageid': 35311411, 'title': 'Redonkadonk'},\n",
       " {'pageid': 9074556, 'title': 'Roujiamo'},\n",
       " {'pageid': 29396791, 'title': 'Salmon burger'},\n",
       " {'pageid': 26793821, 'title': 'Sandwich bread'},\n",
       " {'pageid': 50038844, 'title': 'Sandwich de milanesa'},\n",
       " {'pageid': 10250527, 'title': 'Sandwich loaf'},\n",
       " {'pageid': 5174900, 'title': 'Sandwiches de miga'},\n",
       " {'pageid': 5281094, 'title': 'Sausage sandwich'},\n",
       " {'pageid': 453166, 'title': 'Shawarma'},\n",
       " {'pageid': 2563962, 'title': 'Sincronizada'},\n",
       " {'pageid': 27622613, 'title': 'Slider (sandwich)'},\n",
       " {'pageid': 40325328, 'title': 'Sloppy joe (New Jersey)'},\n",
       " {'pageid': 1093628, 'title': 'Smoked meat'},\n",
       " {'pageid': 1945997, 'title': 'Smorrebrod'},\n",
       " {'pageid': 17766343, 'title': 'Sol over Gudhjem'},\n",
       " {'pageid': 52670334, 'title': 'Soup and sandwich'},\n",
       " {'pageid': 50653758, 'title': 'Spaghetti sandwich'},\n",
       " {'pageid': 43080748, 'title': 'Spatlo'},\n",
       " {'pageid': 44064750, 'title': 'Steak burger'},\n",
       " {'pageid': 15553662, 'title': 'Steak sandwich'},\n",
       " {'pageid': 5352402, 'title': 'Strammer Max'},\n",
       " {'pageid': 26918, 'title': 'Submarine sandwich'},\n",
       " {'pageid': 29985, 'title': 'Taco'},\n",
       " {'pageid': 1358339, 'title': 'Toast Hawaii'},\n",
       " {'pageid': 33796524, 'title': 'Toast sandwich'},\n",
       " {'pageid': 46950307, 'title': 'Tomato sandwich'},\n",
       " {'pageid': 26284358, 'title': 'Tongue toast'},\n",
       " {'pageid': 54889, 'title': 'Tonkatsu'},\n",
       " {'pageid': 2108349, 'title': 'Torta'},\n",
       " {'pageid': 12297788, 'title': 'Torta ahogada'},\n",
       " {'pageid': 13846812, 'title': 'Tuna fish sandwich'},\n",
       " {'pageid': 867756, 'title': 'Vada pav'},\n",
       " {'pageid': 426918, 'title': 'Vegetable sandwich'},\n",
       " {'pageid': 2223187, 'title': 'Wrap (food)'},\n",
       " {'pageid': 21228105, 'title': 'Wrap roti'},\n",
       " {'pageid': 25653706, 'title': 'Wurstbrot'},\n",
       " {'pageid': 7803365, 'title': 'Zapiekanka'}]"
      ]
     },
     "execution_count": 5,
     "metadata": {},
     "output_type": "execute_result"
    }
   ],
   "source": [
    "pages_dict"
   ]
  },
  {
   "cell_type": "code",
   "execution_count": null,
   "metadata": {
    "collapsed": true
   },
   "outputs": [],
   "source": []
  }
 ],
 "metadata": {
  "kernelspec": {
   "display_name": "Python [conda root]",
   "language": "python",
   "name": "conda-root-py"
  },
  "language_info": {
   "codemirror_mode": {
    "name": "ipython",
    "version": 2
   },
   "file_extension": ".py",
   "mimetype": "text/x-python",
   "name": "python",
   "nbconvert_exporter": "python",
   "pygments_lexer": "ipython2",
   "version": "2.7.13"
  }
 },
 "nbformat": 4,
 "nbformat_minor": 2
}
